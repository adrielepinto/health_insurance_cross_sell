{
 "cells": [
  {
   "cell_type": "markdown",
   "id": "150abac1",
   "metadata": {
    "heading_collapsed": true
   },
   "source": [
    "# 0.1 Imports"
   ]
  },
  {
   "cell_type": "code",
   "execution_count": 2,
   "id": "4f928728",
   "metadata": {
    "ExecuteTime": {
     "end_time": "2022-05-19T14:57:52.774251Z",
     "start_time": "2022-05-19T14:57:50.965963Z"
    },
    "hidden": true
   },
   "outputs": [],
   "source": [
    "import pandas  as pd\n",
    "import seaborn as sns\n",
    "import numpy   as np\n",
    "\n",
    "from IPython.core.display        import HTML \n",
    "import matplotlib.pyplot         as plt"
   ]
  },
  {
   "cell_type": "markdown",
   "id": "810d0ac6",
   "metadata": {
    "heading_collapsed": true
   },
   "source": [
    "# 0.2 Helper Functions"
   ]
  },
  {
   "cell_type": "code",
   "execution_count": 3,
   "id": "fce70986",
   "metadata": {
    "ExecuteTime": {
     "end_time": "2022-05-19T14:57:53.473076Z",
     "start_time": "2022-05-19T14:57:53.466204Z"
    },
    "hidden": true
   },
   "outputs": [],
   "source": [
    "def jupyter_settings(): \n",
    "    %matplotlib inline \n",
    "    #%matplotlib notebook\n",
    "    %pylab inline\n",
    "    \n",
    "    plt.style.use('bmh')\n",
    "    plt.rcParams['figure.figsize'] = [25, 12]\n",
    "    plt.rcParams['font.size'] = 24\n",
    "    \n",
    "     \n",
    "    display( HTML( '<style>.container { width:100% !important; }</style>') )\n",
    "    pd.options.display.max_columns = None\n",
    "    pd.options.display.max_rows = None\n",
    "    pd.set_option ('display.expand_frame_repr', False)\n",
    "    \n",
    "    sns.set()"
   ]
  },
  {
   "cell_type": "code",
   "execution_count": 4,
   "id": "63e070a1",
   "metadata": {
    "ExecuteTime": {
     "end_time": "2022-05-19T14:57:53.768384Z",
     "start_time": "2022-05-19T14:57:53.744031Z"
    },
    "hidden": true
   },
   "outputs": [
    {
     "data": {
      "text/html": [
       "<style>.container { width:100% !important; }</style>"
      ],
      "text/plain": [
       "<IPython.core.display.HTML object>"
      ]
     },
     "metadata": {},
     "output_type": "display_data"
    }
   ],
   "source": [
    "%matplotlib inline \n",
    "%matplotlib notebook\n",
    "\n",
    "plt.style.use('bmh')\n",
    "plt.rcParams['figure.figsize'] = [25, 12]\n",
    "plt.rcParams['font.size'] = 24\n",
    "\n",
    "\n",
    "display( HTML( '<style>.container { width:100% !important; }</style>') )\n",
    "pd.options.display.max_columns = None\n",
    "pd.options.display.max_rows = None\n",
    "pd.set_option ('display.expand_frame_repr', False)\n",
    "\n",
    "sns.set()"
   ]
  },
  {
   "cell_type": "code",
   "execution_count": 5,
   "id": "16285d46",
   "metadata": {
    "ExecuteTime": {
     "end_time": "2022-05-19T14:57:57.285128Z",
     "start_time": "2022-05-19T14:57:57.275512Z"
    },
    "hidden": true
   },
   "outputs": [
    {
     "name": "stdout",
     "output_type": "stream",
     "text": [
      "%pylab is deprecated, use %matplotlib inline and import the required libraries.\n",
      "Populating the interactive namespace from numpy and matplotlib\n"
     ]
    },
    {
     "data": {
      "text/html": [
       "<style>.container { width:100% !important; }</style>"
      ],
      "text/plain": [
       "<IPython.core.display.HTML object>"
      ]
     },
     "metadata": {},
     "output_type": "display_data"
    }
   ],
   "source": [
    "jupyter_settings()"
   ]
  },
  {
   "cell_type": "markdown",
   "id": "e8d1dbbf",
   "metadata": {},
   "source": [
    "# 1.0 Data Description"
   ]
  },
  {
   "cell_type": "markdown",
   "id": "0855b40a",
   "metadata": {
    "heading_collapsed": true
   },
   "source": [
    "## 1.1 Loading data"
   ]
  },
  {
   "cell_type": "code",
   "execution_count": 26,
   "id": "b725373e",
   "metadata": {
    "ExecuteTime": {
     "end_time": "2022-05-19T14:59:44.811263Z",
     "start_time": "2022-05-19T14:59:44.667391Z"
    },
    "hidden": true
   },
   "outputs": [],
   "source": [
    "df1= pd.read_csv ('/Users/adriele/Documents/repos/pa004/dataset/data.csv')"
   ]
  },
  {
   "cell_type": "markdown",
   "id": "7acca4f0",
   "metadata": {
    "heading_collapsed": true,
    "hidden": true
   },
   "source": [
    "### 1.1.1 Rename columns"
   ]
  },
  {
   "cell_type": "code",
   "execution_count": 27,
   "id": "1f40b8e5",
   "metadata": {
    "ExecuteTime": {
     "end_time": "2022-05-19T14:59:45.573040Z",
     "start_time": "2022-05-19T14:59:45.569993Z"
    },
    "hidden": true
   },
   "outputs": [],
   "source": [
    "# Dropping Unnamed column\n",
    "df1.columns = ['id', 'gender', 'age', 'region_code', 'policy_sales',\n",
    "               'driving_license', 'vehicle_age', 'vehicle_damage',\n",
    "               'previously_insured', 'annual_premium', 'vintage', 'response']\n",
    "\n"
   ]
  },
  {
   "cell_type": "markdown",
   "id": "795541f7",
   "metadata": {
    "heading_collapsed": true
   },
   "source": [
    "## 1.2 Data Dimensions"
   ]
  },
  {
   "cell_type": "code",
   "execution_count": 28,
   "id": "e2660ec3",
   "metadata": {
    "ExecuteTime": {
     "end_time": "2022-05-19T14:59:46.641608Z",
     "start_time": "2022-05-19T14:59:46.637546Z"
    },
    "hidden": true
   },
   "outputs": [
    {
     "name": "stdout",
     "output_type": "stream",
     "text": [
      "Number of Cols 12\n",
      "Number of Rows 131948\n"
     ]
    }
   ],
   "source": [
    "print( 'Number of Cols {}'.format( df1.shape[1] ) )\n",
    "print( 'Number of Rows {}'.format( df1.shape[0] ) )"
   ]
  },
  {
   "cell_type": "markdown",
   "id": "d6d24785",
   "metadata": {
    "heading_collapsed": true
   },
   "source": [
    "## 1.3 Check NA"
   ]
  },
  {
   "cell_type": "code",
   "execution_count": 29,
   "id": "48862462",
   "metadata": {
    "ExecuteTime": {
     "end_time": "2022-05-19T14:59:47.205076Z",
     "start_time": "2022-05-19T14:59:47.136436Z"
    },
    "hidden": true
   },
   "outputs": [
    {
     "data": {
      "text/plain": [
       "id                    0\n",
       "gender                0\n",
       "age                   0\n",
       "region_code           0\n",
       "policy_sales          0\n",
       "driving_license       0\n",
       "vehicle_age           0\n",
       "vehicle_damage        0\n",
       "previously_insured    0\n",
       "annual_premium        0\n",
       "vintage               0\n",
       "response              0\n",
       "dtype: int64"
      ]
     },
     "execution_count": 29,
     "metadata": {},
     "output_type": "execute_result"
    }
   ],
   "source": [
    "df1.isna().sum()"
   ]
  },
  {
   "cell_type": "markdown",
   "id": "bd04228a",
   "metadata": {
    "heading_collapsed": true
   },
   "source": [
    "## 1.4 Check Data Types"
   ]
  },
  {
   "cell_type": "code",
   "execution_count": 30,
   "id": "4078df93",
   "metadata": {
    "ExecuteTime": {
     "end_time": "2022-05-19T14:59:48.671674Z",
     "start_time": "2022-05-19T14:59:48.666532Z"
    },
    "hidden": true
   },
   "outputs": [
    {
     "data": {
      "text/plain": [
       "id                     int64\n",
       "gender                object\n",
       "age                    int64\n",
       "region_code            int64\n",
       "policy_sales           int64\n",
       "driving_license        int64\n",
       "vehicle_age           object\n",
       "vehicle_damage        object\n",
       "previously_insured     int64\n",
       "annual_premium         int64\n",
       "vintage                int64\n",
       "response               int64\n",
       "dtype: object"
      ]
     },
     "execution_count": 30,
     "metadata": {},
     "output_type": "execute_result"
    }
   ],
   "source": [
    "df1.dtypes"
   ]
  },
  {
   "cell_type": "markdown",
   "id": "9e6f10ed",
   "metadata": {
    "heading_collapsed": true
   },
   "source": [
    "## 1.5 Descriptive Startistical "
   ]
  },
  {
   "cell_type": "code",
   "execution_count": 31,
   "id": "3c9d5620",
   "metadata": {
    "ExecuteTime": {
     "end_time": "2022-05-19T14:59:49.839105Z",
     "start_time": "2022-05-19T14:59:49.834779Z"
    },
    "hidden": true
   },
   "outputs": [],
   "source": [
    "num_attributes = df1.select_dtypes ( include = ['int64', 'float64'] )\n",
    "cat_attributes = df1.select_dtypes ( exclude = ['int64', 'float64'] )"
   ]
  },
  {
   "cell_type": "markdown",
   "id": "9cb2e8db",
   "metadata": {
    "heading_collapsed": true,
    "hidden": true
   },
   "source": [
    "### 1.5.1 Numerical Atributes"
   ]
  },
  {
   "cell_type": "code",
   "execution_count": 32,
   "id": "d087e6d2",
   "metadata": {
    "ExecuteTime": {
     "end_time": "2022-05-19T14:59:51.783737Z",
     "start_time": "2022-05-19T14:59:51.505493Z"
    },
    "hidden": true
   },
   "outputs": [
    {
     "data": {
      "text/html": [
       "<div>\n",
       "<style scoped>\n",
       "    .dataframe tbody tr th:only-of-type {\n",
       "        vertical-align: middle;\n",
       "    }\n",
       "\n",
       "    .dataframe tbody tr th {\n",
       "        vertical-align: top;\n",
       "    }\n",
       "\n",
       "    .dataframe thead th {\n",
       "        text-align: right;\n",
       "    }\n",
       "</style>\n",
       "<table border=\"1\" class=\"dataframe\">\n",
       "  <thead>\n",
       "    <tr style=\"text-align: right;\">\n",
       "      <th></th>\n",
       "      <th>atributtes</th>\n",
       "      <th>min</th>\n",
       "      <th>max</th>\n",
       "      <th>range</th>\n",
       "      <th>mean</th>\n",
       "      <th>median</th>\n",
       "      <th>std</th>\n",
       "      <th>skew</th>\n",
       "      <th>kurtosis</th>\n",
       "    </tr>\n",
       "  </thead>\n",
       "  <tbody>\n",
       "    <tr>\n",
       "      <th>0</th>\n",
       "      <td>id</td>\n",
       "      <td>0.0</td>\n",
       "      <td>131947.0</td>\n",
       "      <td>131947.0</td>\n",
       "      <td>65973.500000</td>\n",
       "      <td>65973.5</td>\n",
       "      <td>38090.106658</td>\n",
       "      <td>0.000000</td>\n",
       "      <td>-1.200000</td>\n",
       "    </tr>\n",
       "    <tr>\n",
       "      <th>1</th>\n",
       "      <td>age</td>\n",
       "      <td>45.0</td>\n",
       "      <td>85.0</td>\n",
       "      <td>40.0</td>\n",
       "      <td>56.939635</td>\n",
       "      <td>55.0</td>\n",
       "      <td>9.469115</td>\n",
       "      <td>0.640036</td>\n",
       "      <td>-0.649460</td>\n",
       "    </tr>\n",
       "    <tr>\n",
       "      <th>2</th>\n",
       "      <td>region_code</td>\n",
       "      <td>0.0</td>\n",
       "      <td>52.0</td>\n",
       "      <td>52.0</td>\n",
       "      <td>26.985388</td>\n",
       "      <td>28.0</td>\n",
       "      <td>12.310347</td>\n",
       "      <td>-0.209233</td>\n",
       "      <td>-0.407361</td>\n",
       "    </tr>\n",
       "    <tr>\n",
       "      <th>3</th>\n",
       "      <td>policy_sales</td>\n",
       "      <td>1.0</td>\n",
       "      <td>163.0</td>\n",
       "      <td>162.0</td>\n",
       "      <td>74.217237</td>\n",
       "      <td>30.0</td>\n",
       "      <td>53.440006</td>\n",
       "      <td>0.200884</td>\n",
       "      <td>-1.768637</td>\n",
       "    </tr>\n",
       "    <tr>\n",
       "      <th>4</th>\n",
       "      <td>driving_license</td>\n",
       "      <td>0.0</td>\n",
       "      <td>1.0</td>\n",
       "      <td>1.0</td>\n",
       "      <td>0.994096</td>\n",
       "      <td>1.0</td>\n",
       "      <td>0.076609</td>\n",
       "      <td>-12.899263</td>\n",
       "      <td>164.393472</td>\n",
       "    </tr>\n",
       "    <tr>\n",
       "      <th>5</th>\n",
       "      <td>previously_insured</td>\n",
       "      <td>0.0</td>\n",
       "      <td>1.0</td>\n",
       "      <td>1.0</td>\n",
       "      <td>0.313427</td>\n",
       "      <td>0.0</td>\n",
       "      <td>0.463886</td>\n",
       "      <td>0.804403</td>\n",
       "      <td>-1.352957</td>\n",
       "    </tr>\n",
       "    <tr>\n",
       "      <th>6</th>\n",
       "      <td>annual_premium</td>\n",
       "      <td>2630.0</td>\n",
       "      <td>540165.0</td>\n",
       "      <td>537535.0</td>\n",
       "      <td>32301.524040</td>\n",
       "      <td>34034.5</td>\n",
       "      <td>19160.604775</td>\n",
       "      <td>1.920845</td>\n",
       "      <td>36.133813</td>\n",
       "    </tr>\n",
       "    <tr>\n",
       "      <th>7</th>\n",
       "      <td>vintage</td>\n",
       "      <td>10.0</td>\n",
       "      <td>299.0</td>\n",
       "      <td>289.0</td>\n",
       "      <td>154.276010</td>\n",
       "      <td>154.0</td>\n",
       "      <td>83.644379</td>\n",
       "      <td>0.001730</td>\n",
       "      <td>-1.201913</td>\n",
       "    </tr>\n",
       "    <tr>\n",
       "      <th>8</th>\n",
       "      <td>response</td>\n",
       "      <td>0.0</td>\n",
       "      <td>1.0</td>\n",
       "      <td>1.0</td>\n",
       "      <td>0.159517</td>\n",
       "      <td>0.0</td>\n",
       "      <td>0.366158</td>\n",
       "      <td>1.859780</td>\n",
       "      <td>1.458803</td>\n",
       "    </tr>\n",
       "  </tbody>\n",
       "</table>\n",
       "</div>"
      ],
      "text/plain": [
       "           atributtes     min       max     range          mean   median           std       skew    kurtosis\n",
       "0                  id     0.0  131947.0  131947.0  65973.500000  65973.5  38090.106658   0.000000   -1.200000\n",
       "1                 age    45.0      85.0      40.0     56.939635     55.0      9.469115   0.640036   -0.649460\n",
       "2         region_code     0.0      52.0      52.0     26.985388     28.0     12.310347  -0.209233   -0.407361\n",
       "3        policy_sales     1.0     163.0     162.0     74.217237     30.0     53.440006   0.200884   -1.768637\n",
       "4     driving_license     0.0       1.0       1.0      0.994096      1.0      0.076609 -12.899263  164.393472\n",
       "5  previously_insured     0.0       1.0       1.0      0.313427      0.0      0.463886   0.804403   -1.352957\n",
       "6      annual_premium  2630.0  540165.0  537535.0  32301.524040  34034.5  19160.604775   1.920845   36.133813\n",
       "7             vintage    10.0     299.0     289.0    154.276010    154.0     83.644379   0.001730   -1.201913\n",
       "8            response     0.0       1.0       1.0      0.159517      0.0      0.366158   1.859780    1.458803"
      ]
     },
     "execution_count": 32,
     "metadata": {},
     "output_type": "execute_result"
    }
   ],
   "source": [
    "\n",
    "# Central tedency - mean, median\n",
    "ct1 = pd.DataFrame( num_attributes.apply( np.mean ) ).T\n",
    "ct2 = pd.DataFrame( num_attributes.apply ( np.median ) ).T\n",
    "\n",
    "# Dispersin - std, min, max, range, skew, kurtosis\n",
    "d1 = pd.DataFrame( num_attributes.apply( np.std ) ).T\n",
    "d2 = pd.DataFrame( num_attributes.apply( min ) ).T\n",
    "d3 = pd.DataFrame( num_attributes.apply( max ) ).T\n",
    "d4 = pd.DataFrame( num_attributes.apply( lambda x: x.max() - x.min () )).T\n",
    "d5 = pd.DataFrame( num_attributes.apply( lambda x: x.skew () )).T\n",
    "d6 = pd.DataFrame( num_attributes.apply( lambda x: x.kurtosis () ) ).T\n",
    "\n",
    "n = pd.concat([ d2, d3, d4, ct1, ct2, d1, d5, d6 ]).T.reset_index()\n",
    "n.columns = [ 'atributtes', 'min', 'max', 'range', 'mean', 'median','std', 'skew', 'kurtosis' ]\n",
    "n"
   ]
  },
  {
   "cell_type": "code",
   "execution_count": 33,
   "id": "8e93e506",
   "metadata": {
    "ExecuteTime": {
     "end_time": "2022-05-19T14:59:52.983831Z",
     "start_time": "2022-05-19T14:59:52.513953Z"
    },
    "hidden": true
   },
   "outputs": [
    {
     "data": {
      "text/plain": [
       "<seaborn.axisgrid.FacetGrid at 0x7fcfd49c41f0>"
      ]
     },
     "execution_count": 33,
     "metadata": {},
     "output_type": "execute_result"
    },
    {
     "data": {
      "image/png": "[encoded data removed]",
      "text/plain": [
       "<Figure size 360x360 with 1 Axes>"
      ]
     },
     "metadata": {},
     "output_type": "display_data"
    }
   ],
   "source": [
    "sns.displot( df1['age'])"
   ]
  },
  {
   "cell_type": "code",
   "execution_count": 34,
   "id": "45a2fc0c",
   "metadata": {
    "ExecuteTime": {
     "end_time": "2022-05-19T14:59:54.042262Z",
     "start_time": "2022-05-19T14:59:53.511422Z"
    },
    "hidden": true
   },
   "outputs": [
    {
     "data": {
      "text/plain": [
       "<seaborn.axisgrid.FacetGrid at 0x7fcfbcb07c70>"
      ]
     },
     "execution_count": 34,
     "metadata": {},
     "output_type": "execute_result"
    },
    {
     "data": {
      "image/png": "[encoded data removed]",
      "text/plain": [
       "<Figure size 360x360 with 1 Axes>"
      ]
     },
     "metadata": {},
     "output_type": "display_data"
    }
   ],
   "source": [
    "sns.displot( df1['policy_sales'])"
   ]
  },
  {
   "cell_type": "markdown",
   "id": "2135e345",
   "metadata": {
    "ExecuteTime": {
     "end_time": "2022-05-10T19:19:14.710966Z",
     "start_time": "2022-05-10T19:19:14.697992Z"
    },
    "heading_collapsed": true,
    "hidden": true
   },
   "source": [
    "### 1.5.2 Attributes Category"
   ]
  },
  {
   "cell_type": "code",
   "execution_count": 35,
   "id": "795b7c01",
   "metadata": {
    "ExecuteTime": {
     "end_time": "2022-05-19T14:59:55.507685Z",
     "start_time": "2022-05-19T14:59:55.484263Z"
    },
    "hidden": true
   },
   "outputs": [
    {
     "data": {
      "text/plain": [
       "gender            2\n",
       "vehicle_age       3\n",
       "vehicle_damage    2\n",
       "dtype: int64"
      ]
     },
     "execution_count": 35,
     "metadata": {},
     "output_type": "execute_result"
    }
   ],
   "source": [
    "cat_attributes.apply( lambda x: x.unique().shape[0] )"
   ]
  },
  {
   "cell_type": "code",
   "execution_count": 36,
   "id": "242b3ce4",
   "metadata": {
    "ExecuteTime": {
     "end_time": "2022-05-19T14:59:58.537310Z",
     "start_time": "2022-05-19T14:59:56.234930Z"
    },
    "hidden": true
   },
   "outputs": [
    {
     "data": {
      "text/plain": [
       "<AxesSubplot:xlabel='vehicle_damage', ylabel='annual_premium'>"
      ]
     },
     "execution_count": 36,
     "metadata": {},
     "output_type": "execute_result"
    },
    {
     "data": {
      "image/png": "[encoded data removed]",
      "text/plain": [
       "<Figure size 1800x864 with 2 Axes>"
      ]
     },
     "metadata": {},
     "output_type": "display_data"
    }
   ],
   "source": [
    "aux1 = df1[( df1[ 'gender' ] != '0') & (df1[ 'annual_premium' ] >0 )]\n",
    "\n",
    "plt.subplot (1, 2, 1)\n",
    "sns.boxplot (x = 'gender', y='annual_premium', data = aux1)\n",
    "\n",
    "plt.subplot (1, 2, 2)\n",
    "sns.boxplot (x = 'vehicle_damage', y='annual_premium', data = aux1)"
   ]
  },
  {
   "cell_type": "markdown",
   "id": "2106c79f",
   "metadata": {
    "ExecuteTime": {
     "end_time": "2022-05-11T14:47:37.038029Z",
     "start_time": "2022-05-11T14:47:37.025919Z"
    },
    "heading_collapsed": true
   },
   "source": [
    "# 2.0 Feature Engeneering - Mind Map"
   ]
  },
  {
   "cell_type": "code",
   "execution_count": 25,
   "id": "6647a437",
   "metadata": {
    "ExecuteTime": {
     "end_time": "2022-05-19T14:58:50.753952Z",
     "start_time": "2022-05-19T14:58:50.743556Z"
    },
    "hidden": true
   },
   "outputs": [],
   "source": [
    "df2 = df1.copy()"
   ]
  },
  {
   "cell_type": "markdown",
   "id": "9e247cfb",
   "metadata": {
    "heading_collapsed": true,
    "hidden": true
   },
   "source": [
    "## 2.1 Mind Map"
   ]
  },
  {
   "cell_type": "markdown",
   "id": "88dd91ad",
   "metadata": {
    "heading_collapsed": true,
    "hidden": true
   },
   "source": [
    "## 2.2 Hypothesy List\n",
    "\n",
    "\n",
    "- H1. Female customers old would be insterested.\n",
    "- H2. Customers over 50 years old would be insterested.\n",
    "- H3. Customers around downtown would be insterested.\n",
    "- H4. Policy Sales \n",
    "- H5. Customers with drive licenses would be insterested.\n",
    "- H6. Customers with older car wouldn't be insterested.\n",
    "- H7. Customers demage car would be insterested.\n",
    "- H8 . Previously Insured\n",
    "- H9. Customers that paid for annually premmiun would be insterested.\n",
    "- H10. Customers with more time of association on Health Insurance would be insterested."
   ]
  },
  {
   "cell_type": "markdown",
   "id": "d1002701",
   "metadata": {
    "heading_collapsed": true,
    "hide_input": true
   },
   "source": [
    "# 3.0 FILTERING VARIABLES"
   ]
  },
  {
   "cell_type": "code",
   "execution_count": 40,
   "id": "30b02329",
   "metadata": {
    "ExecuteTime": {
     "end_time": "2022-05-19T15:28:11.994120Z",
     "start_time": "2022-05-19T15:28:11.984083Z"
    },
    "hidden": true
   },
   "outputs": [],
   "source": [
    "df3 = df2.copy()"
   ]
  },
  {
   "cell_type": "markdown",
   "id": "f4aa713b",
   "metadata": {},
   "source": [
    "# 4.0 Exploratory Data Analysis"
   ]
  },
  {
   "cell_type": "code",
   "execution_count": 41,
   "id": "77c2fe62",
   "metadata": {
    "ExecuteTime": {
     "end_time": "2022-05-19T15:28:37.810313Z",
     "start_time": "2022-05-19T15:28:37.799298Z"
    }
   },
   "outputs": [],
   "source": [
    "df4 = df3.copy()"
   ]
  },
  {
   "cell_type": "markdown",
   "id": "4c261e95",
   "metadata": {
    "ExecuteTime": {
     "end_time": "2022-05-19T15:29:33.166816Z",
     "start_time": "2022-05-19T15:29:33.164369Z"
    }
   },
   "source": [
    "## 4.1 Univariate Analysis"
   ]
  },
  {
   "cell_type": "markdown",
   "id": "3eb73cf4",
   "metadata": {
    "heading_collapsed": true
   },
   "source": [
    "### 4.1.1 Response variable"
   ]
  },
  {
   "cell_type": "code",
   "execution_count": 43,
   "id": "1595bbf1",
   "metadata": {
    "ExecuteTime": {
     "end_time": "2022-05-19T15:31:31.264152Z",
     "start_time": "2022-05-19T15:31:30.381427Z"
    },
    "hidden": true
   },
   "outputs": [
    {
     "name": "stderr",
     "output_type": "stream",
     "text": [
      "/Users/adriele/opt/anaconda3/envs/env_pa004/lib/python3.9/site-packages/seaborn/distributions.py:2619: FutureWarning: `distplot` is a deprecated function and will be removed in a future version. Please adapt your code to use either `displot` (a figure-level function with similar flexibility) or `histplot` (an axes-level function for histograms).\n",
      "  warnings.warn(msg, FutureWarning)\n"
     ]
    },
    {
     "data": {
      "text/plain": [
       "<AxesSubplot:xlabel='response', ylabel='Density'>"
      ]
     },
     "execution_count": 43,
     "metadata": {},
     "output_type": "execute_result"
    },
    {
     "data": {
      "image/png": "[encoded data removed]",
      "text/plain": [
       "<Figure size 1800x864 with 1 Axes>"
      ]
     },
     "metadata": {},
     "output_type": "display_data"
    }
   ],
   "source": [
    "sns.distplot (df4['response'])"
   ]
  },
  {
   "cell_type": "markdown",
   "id": "ec36b721",
   "metadata": {
    "heading_collapsed": true
   },
   "source": [
    "### 4.1.2 Numerical Variable"
   ]
  },
  {
   "cell_type": "code",
   "execution_count": 44,
   "id": "6322a6d1",
   "metadata": {
    "ExecuteTime": {
     "end_time": "2022-05-19T15:32:32.028401Z",
     "start_time": "2022-05-19T15:32:30.119839Z"
    },
    "hidden": true
   },
   "outputs": [
    {
     "data": {
      "image/png": "[encoded data removed]",
      "text/plain": [
       "<Figure size 1800x864 with 9 Axes>"
      ]
     },
     "metadata": {},
     "output_type": "display_data"
    }
   ],
   "source": [
    "num_attributes.hist(bins =25);"
   ]
  },
  {
   "cell_type": "markdown",
   "id": "23f46932",
   "metadata": {},
   "source": [
    "### 4.1.3 Categorical Variable"
   ]
  },
  {
   "cell_type": "markdown",
   "id": "b83acdae",
   "metadata": {
    "ExecuteTime": {
     "end_time": "2022-05-19T15:03:06.239776Z",
     "start_time": "2022-05-19T15:03:06.237105Z"
    }
   },
   "source": [
    "## 2.3 Hypothesys Validation "
   ]
  },
  {
   "cell_type": "markdown",
   "id": "2c9dcd60",
   "metadata": {
    "heading_collapsed": true
   },
   "source": [
    "### <font color='orange'> 2.3.1- H1. Female customers old would be insterested."
   ]
  },
  {
   "cell_type": "code",
   "execution_count": null,
   "id": "6d8b1d9d",
   "metadata": {
    "hidden": true
   },
   "outputs": [],
   "source": []
  },
  {
   "cell_type": "markdown",
   "id": "01fb5ad9",
   "metadata": {
    "ExecuteTime": {
     "end_time": "2022-05-19T15:07:19.834507Z",
     "start_time": "2022-05-19T15:07:19.831759Z"
    },
    "heading_collapsed": true
   },
   "source": [
    "### <font color='orange'>  2.3.2- H2. Customers over 50 years old would be insterested.\n"
   ]
  },
  {
   "cell_type": "code",
   "execution_count": null,
   "id": "b2d9c1b4",
   "metadata": {
    "hidden": true
   },
   "outputs": [],
   "source": []
  },
  {
   "cell_type": "markdown",
   "id": "5dab5420",
   "metadata": {
    "ExecuteTime": {
     "end_time": "2022-05-19T15:07:19.834507Z",
     "start_time": "2022-05-19T15:07:19.831759Z"
    },
    "heading_collapsed": true
   },
   "source": [
    "### <font color='orange'>  2.3.3 - H3. Customers around downtown would be insterested."
   ]
  },
  {
   "cell_type": "code",
   "execution_count": null,
   "id": "d1b5f88a",
   "metadata": {
    "hidden": true
   },
   "outputs": [],
   "source": []
  },
  {
   "cell_type": "markdown",
   "id": "cd9d9868",
   "metadata": {
    "ExecuteTime": {
     "end_time": "2022-05-19T15:07:19.834507Z",
     "start_time": "2022-05-19T15:07:19.831759Z"
    },
    "heading_collapsed": true
   },
   "source": [
    "### <font color='orange'>  2.3.2- H4. Policy Sales"
   ]
  },
  {
   "cell_type": "code",
   "execution_count": null,
   "id": "3dc75927",
   "metadata": {
    "hidden": true
   },
   "outputs": [],
   "source": []
  },
  {
   "cell_type": "markdown",
   "id": "96f70d23",
   "metadata": {
    "ExecuteTime": {
     "end_time": "2022-05-19T15:07:19.834507Z",
     "start_time": "2022-05-19T15:07:19.831759Z"
    },
    "heading_collapsed": true
   },
   "source": [
    "### <font color='orange'>  2.3.2 - H5. Customers with drive licenses would be insterested."
   ]
  },
  {
   "cell_type": "code",
   "execution_count": null,
   "id": "f5c6e9a8",
   "metadata": {
    "hidden": true
   },
   "outputs": [],
   "source": []
  },
  {
   "cell_type": "markdown",
   "id": "5590c40d",
   "metadata": {
    "ExecuteTime": {
     "end_time": "2022-05-19T15:07:19.834507Z",
     "start_time": "2022-05-19T15:07:19.831759Z"
    },
    "heading_collapsed": true
   },
   "source": [
    "### <font color='orange'>  2.3.2 - H6. Customers with older car wouldn't be insterested."
   ]
  },
  {
   "cell_type": "code",
   "execution_count": null,
   "id": "f6e92d1c",
   "metadata": {
    "hidden": true
   },
   "outputs": [],
   "source": []
  },
  {
   "cell_type": "markdown",
   "id": "c638de95",
   "metadata": {
    "ExecuteTime": {
     "end_time": "2022-05-19T15:07:19.834507Z",
     "start_time": "2022-05-19T15:07:19.831759Z"
    },
    "heading_collapsed": true
   },
   "source": [
    "### <font color='orange'>  2.3.2 - H7. Customers demage car would be insterested."
   ]
  },
  {
   "cell_type": "code",
   "execution_count": null,
   "id": "2e22b61b",
   "metadata": {
    "hidden": true
   },
   "outputs": [],
   "source": []
  },
  {
   "cell_type": "markdown",
   "id": "cbbbc92c",
   "metadata": {
    "ExecuteTime": {
     "end_time": "2022-05-19T15:07:19.834507Z",
     "start_time": "2022-05-19T15:07:19.831759Z"
    },
    "heading_collapsed": true
   },
   "source": [
    "### <font color='orange'>  2.3.2 - H8. Previously Insured"
   ]
  },
  {
   "cell_type": "markdown",
   "id": "3b9fd7a8",
   "metadata": {
    "ExecuteTime": {
     "end_time": "2022-05-19T15:07:19.834507Z",
     "start_time": "2022-05-19T15:07:19.831759Z"
    },
    "heading_collapsed": true
   },
   "source": [
    "### <font color='orange'>  2.3.2 - H9. Customers that paid for annually premmiun would be insterested."
   ]
  },
  {
   "cell_type": "markdown",
   "id": "c676926d",
   "metadata": {
    "ExecuteTime": {
     "end_time": "2022-05-19T15:07:19.834507Z",
     "start_time": "2022-05-19T15:07:19.831759Z"
    },
    "heading_collapsed": true
   },
   "source": [
    "### <font color='orange'>  2.3.2 - H10. Customers with more time of association on Health Insurance would be insterested."
   ]
  },
  {
   "cell_type": "code",
   "execution_count": null,
   "id": "6a665606",
   "metadata": {
    "hidden": true
   },
   "outputs": [],
   "source": []
  },
  {
   "cell_type": "code",
   "execution_count": null,
   "id": "8b58a8ed",
   "metadata": {
    "hidden": true
   },
   "outputs": [],
   "source": []
  },
  {
   "cell_type": "code",
   "execution_count": null,
   "id": "5f8830c5",
   "metadata": {
    "hidden": true
   },
   "outputs": [],
   "source": []
  },
  {
   "cell_type": "code",
   "execution_count": 38,
   "id": "85912e73",
   "metadata": {
    "ExecuteTime": {
     "end_time": "2022-05-19T15:04:37.114271Z",
     "start_time": "2022-05-19T15:04:37.104245Z"
    },
    "hidden": true
   },
   "outputs": [
    {
     "data": {
      "text/html": [
       "<div>\n",
       "<style scoped>\n",
       "    .dataframe tbody tr th:only-of-type {\n",
       "        vertical-align: middle;\n",
       "    }\n",
       "\n",
       "    .dataframe tbody tr th {\n",
       "        vertical-align: top;\n",
       "    }\n",
       "\n",
       "    .dataframe thead th {\n",
       "        text-align: right;\n",
       "    }\n",
       "</style>\n",
       "<table border=\"1\" class=\"dataframe\">\n",
       "  <thead>\n",
       "    <tr style=\"text-align: right;\">\n",
       "      <th></th>\n",
       "      <th>id</th>\n",
       "      <th>gender</th>\n",
       "      <th>age</th>\n",
       "      <th>region_code</th>\n",
       "      <th>policy_sales</th>\n",
       "      <th>driving_license</th>\n",
       "      <th>vehicle_age</th>\n",
       "      <th>vehicle_damage</th>\n",
       "      <th>previously_insured</th>\n",
       "      <th>annual_premium</th>\n",
       "      <th>vintage</th>\n",
       "      <th>response</th>\n",
       "    </tr>\n",
       "  </thead>\n",
       "  <tbody>\n",
       "    <tr>\n",
       "      <th>0</th>\n",
       "      <td>0</td>\n",
       "      <td>Female</td>\n",
       "      <td>56</td>\n",
       "      <td>28</td>\n",
       "      <td>26</td>\n",
       "      <td>1</td>\n",
       "      <td>2</td>\n",
       "      <td>Yes</td>\n",
       "      <td>0</td>\n",
       "      <td>32031</td>\n",
       "      <td>72</td>\n",
       "      <td>1</td>\n",
       "    </tr>\n",
       "    <tr>\n",
       "      <th>1</th>\n",
       "      <td>1</td>\n",
       "      <td>Female</td>\n",
       "      <td>47</td>\n",
       "      <td>35</td>\n",
       "      <td>124</td>\n",
       "      <td>1</td>\n",
       "      <td>2</td>\n",
       "      <td>Yes</td>\n",
       "      <td>0</td>\n",
       "      <td>47576</td>\n",
       "      <td>46</td>\n",
       "      <td>1</td>\n",
       "    </tr>\n",
       "    <tr>\n",
       "      <th>2</th>\n",
       "      <td>2</td>\n",
       "      <td>Male</td>\n",
       "      <td>45</td>\n",
       "      <td>8</td>\n",
       "      <td>124</td>\n",
       "      <td>1</td>\n",
       "      <td>2</td>\n",
       "      <td>Yes</td>\n",
       "      <td>0</td>\n",
       "      <td>42297</td>\n",
       "      <td>264</td>\n",
       "      <td>0</td>\n",
       "    </tr>\n",
       "    <tr>\n",
       "      <th>3</th>\n",
       "      <td>3</td>\n",
       "      <td>Female</td>\n",
       "      <td>54</td>\n",
       "      <td>28</td>\n",
       "      <td>122</td>\n",
       "      <td>1</td>\n",
       "      <td>2</td>\n",
       "      <td>No</td>\n",
       "      <td>0</td>\n",
       "      <td>38560</td>\n",
       "      <td>184</td>\n",
       "      <td>0</td>\n",
       "    </tr>\n",
       "    <tr>\n",
       "      <th>4</th>\n",
       "      <td>4</td>\n",
       "      <td>Female</td>\n",
       "      <td>49</td>\n",
       "      <td>3</td>\n",
       "      <td>152</td>\n",
       "      <td>1</td>\n",
       "      <td>2</td>\n",
       "      <td>No</td>\n",
       "      <td>1</td>\n",
       "      <td>25553</td>\n",
       "      <td>130</td>\n",
       "      <td>0</td>\n",
       "    </tr>\n",
       "  </tbody>\n",
       "</table>\n",
       "</div>"
      ],
      "text/plain": [
       "   id  gender  age  region_code  policy_sales  driving_license  vehicle_age vehicle_damage  previously_insured  annual_premium  vintage  response\n",
       "0   0  Female   56           28            26                1            2            Yes                   0           32031       72         1\n",
       "1   1  Female   47           35           124                1            2            Yes                   0           47576       46         1\n",
       "2   2    Male   45            8           124                1            2            Yes                   0           42297      264         0\n",
       "3   3  Female   54           28           122                1            2             No                   0           38560      184         0\n",
       "4   4  Female   49            3           152                1            2             No                   1           25553      130         0"
      ]
     },
     "execution_count": 38,
     "metadata": {},
     "output_type": "execute_result"
    }
   ],
   "source": [
    "df2.head()"
   ]
  },
  {
   "cell_type": "code",
   "execution_count": null,
   "id": "99b59844",
   "metadata": {
    "hidden": true
   },
   "outputs": [],
   "source": []
  },
  {
   "cell_type": "code",
   "execution_count": null,
   "id": "1c3a0d51",
   "metadata": {
    "hidden": true
   },
   "outputs": [],
   "source": []
  },
  {
   "cell_type": "code",
   "execution_count": null,
   "id": "8c3816d0",
   "metadata": {
    "hidden": true
   },
   "outputs": [],
   "source": []
  },
  {
   "cell_type": "code",
   "execution_count": null,
   "id": "50931867",
   "metadata": {
    "hidden": true
   },
   "outputs": [],
   "source": []
  },
  {
   "cell_type": "code",
   "execution_count": null,
   "id": "67ad2c91",
   "metadata": {
    "hidden": true
   },
   "outputs": [],
   "source": []
  },
  {
   "cell_type": "code",
   "execution_count": null,
   "id": "8c79755c",
   "metadata": {
    "hidden": true
   },
   "outputs": [],
   "source": []
  },
  {
   "cell_type": "code",
   "execution_count": null,
   "id": "58b2c944",
   "metadata": {
    "hidden": true
   },
   "outputs": [],
   "source": []
  },
  {
   "cell_type": "code",
   "execution_count": null,
   "id": "4f99a8cd",
   "metadata": {
    "hidden": true
   },
   "outputs": [],
   "source": []
  },
  {
   "cell_type": "code",
   "execution_count": null,
   "id": "b333a75b",
   "metadata": {
    "hidden": true
   },
   "outputs": [],
   "source": []
  },
  {
   "cell_type": "code",
   "execution_count": null,
   "id": "45ddc29b",
   "metadata": {
    "hidden": true
   },
   "outputs": [],
   "source": []
  }
 ],
 "metadata": {
  "kernelspec": {
   "display_name": "Python 3 (ipykernel)",
   "language": "python",
   "name": "python3"
  },
  "language_info": {
   "codemirror_mode": {
    "name": "ipython",
    "version": 3
   },
   "file_extension": ".py",
   "mimetype": "text/x-python",
   "name": "python",
   "nbconvert_exporter": "python",
   "pygments_lexer": "ipython3",
   "version": "3.9.12"
  }
 },
 "nbformat": 4,
 "nbformat_minor": 5
}
