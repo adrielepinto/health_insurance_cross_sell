{
 "cells": [
  {
   "cell_type": "markdown",
   "id": "150abac1",
   "metadata": {
    "heading_collapsed": true
   },
   "source": [
    "# 0.1 Imports"
   ]
  },
  {
   "cell_type": "code",
   "execution_count": 192,
   "id": "4f928728",
   "metadata": {
    "ExecuteTime": {
     "end_time": "2022-05-11T14:42:32.744923Z",
     "start_time": "2022-05-11T14:42:32.741539Z"
    },
    "hidden": true
   },
   "outputs": [],
   "source": [
    "import pandas  as pd\n",
    "import seaborn as sns\n",
    "import numpy   as np\n",
    "\n",
    "from IPython.core.display        import HTML \n",
    "import matplotlib.pyplot         as plt"
   ]
  },
  {
   "cell_type": "markdown",
   "id": "810d0ac6",
   "metadata": {
    "heading_collapsed": true
   },
   "source": [
    "# 0.2 Helper Functions"
   ]
  },
  {
   "cell_type": "code",
   "execution_count": 193,
   "id": "fce70986",
   "metadata": {
    "ExecuteTime": {
     "end_time": "2022-05-11T14:42:33.811493Z",
     "start_time": "2022-05-11T14:42:33.801994Z"
    },
    "hidden": true
   },
   "outputs": [],
   "source": [
    "def jupyter_settings(): \n",
    "    %matplotlib inline \n",
    "    #%matplotlib notebook\n",
    "    %pylab inline\n",
    "    \n",
    "    plt.style.use('bmh')\n",
    "    plt.rcParams['figure.figsize'] = [25, 12]\n",
    "    plt.rcParams['font.size'] = 24\n",
    "    \n",
    "     \n",
    "    display( HTML( '<style>.container { width:100% !important; }</style>') )\n",
    "    pd.options.display.max_columns = None\n",
    "    pd.options.display.max_rows = None\n",
    "    pd.set_option ('display.expand_frame_repr', False)\n",
    "    \n",
    "    sns.set()"
   ]
  },
  {
   "cell_type": "code",
   "execution_count": 194,
   "id": "63e070a1",
   "metadata": {
    "ExecuteTime": {
     "end_time": "2022-05-11T14:42:34.502580Z",
     "start_time": "2022-05-11T14:42:34.476096Z"
    },
    "hidden": true
   },
   "outputs": [
    {
     "data": {
      "text/html": [
       "<style>.container { width:100% !important; }</style>"
      ],
      "text/plain": [
       "<IPython.core.display.HTML object>"
      ]
     },
     "metadata": {},
     "output_type": "display_data"
    }
   ],
   "source": [
    "%matplotlib inline \n",
    "%matplotlib notebook\n",
    "\n",
    "plt.style.use('bmh')\n",
    "plt.rcParams['figure.figsize'] = [25, 12]\n",
    "plt.rcParams['font.size'] = 24\n",
    "\n",
    "\n",
    "display( HTML( '<style>.container { width:100% !important; }</style>') )\n",
    "pd.options.display.max_columns = None\n",
    "pd.options.display.max_rows = None\n",
    "pd.set_option ('display.expand_frame_repr', False)\n",
    "\n",
    "sns.set()"
   ]
  },
  {
   "cell_type": "code",
   "execution_count": 195,
   "id": "16285d46",
   "metadata": {
    "ExecuteTime": {
     "end_time": "2022-05-11T14:42:35.284694Z",
     "start_time": "2022-05-11T14:42:35.277318Z"
    },
    "hidden": true
   },
   "outputs": [
    {
     "name": "stdout",
     "output_type": "stream",
     "text": [
      "%pylab is deprecated, use %matplotlib inline and import the required libraries.\n",
      "Populating the interactive namespace from numpy and matplotlib\n"
     ]
    },
    {
     "data": {
      "text/html": [
       "<style>.container { width:100% !important; }</style>"
      ],
      "text/plain": [
       "<IPython.core.display.HTML object>"
      ]
     },
     "metadata": {},
     "output_type": "display_data"
    }
   ],
   "source": [
    "jupyter_settings()"
   ]
  },
  {
   "cell_type": "markdown",
   "id": "e8d1dbbf",
   "metadata": {},
   "source": [
    "# 1.0 Data Description"
   ]
  },
  {
   "cell_type": "markdown",
   "id": "0855b40a",
   "metadata": {
    "heading_collapsed": true
   },
   "source": [
    "## 1.1 Loading data"
   ]
  },
  {
   "cell_type": "code",
   "execution_count": 222,
   "id": "b725373e",
   "metadata": {
    "ExecuteTime": {
     "end_time": "2022-05-11T14:53:17.408764Z",
     "start_time": "2022-05-11T14:53:17.261969Z"
    },
    "hidden": true
   },
   "outputs": [],
   "source": [
    "df1= pd.read_csv ('/Users/adriele/Documents/repos/pa004/dataset/data.csv')"
   ]
  },
  {
   "cell_type": "markdown",
   "id": "7acca4f0",
   "metadata": {
    "heading_collapsed": true,
    "hidden": true
   },
   "source": [
    "### 1.1.1 Rename columns"
   ]
  },
  {
   "cell_type": "code",
   "execution_count": 223,
   "id": "1f40b8e5",
   "metadata": {
    "ExecuteTime": {
     "end_time": "2022-05-11T14:53:18.969736Z",
     "start_time": "2022-05-11T14:53:18.954042Z"
    },
    "hidden": true
   },
   "outputs": [],
   "source": [
    "# Dropping Unnamed column\n",
    "df1 = df1.loc[:, ~df1.columns.str.contains('^Unnamed')]\n",
    "\n",
    "df1.columns = ['gender', 'age', 'region_code', 'policy_sales',\n",
    "               'driving_license', 'vehicle_age', 'vehicle_damage',\n",
    "               'previously_insured', 'annual_premium', 'vintage', 'response']\n",
    "\n"
   ]
  },
  {
   "cell_type": "code",
   "execution_count": 224,
   "id": "80f96ea1",
   "metadata": {
    "ExecuteTime": {
     "end_time": "2022-05-11T14:53:19.726145Z",
     "start_time": "2022-05-11T14:53:19.714661Z"
    },
    "hidden": true
   },
   "outputs": [
    {
     "data": {
      "text/html": [
       "<div>\n",
       "<style scoped>\n",
       "    .dataframe tbody tr th:only-of-type {\n",
       "        vertical-align: middle;\n",
       "    }\n",
       "\n",
       "    .dataframe tbody tr th {\n",
       "        vertical-align: top;\n",
       "    }\n",
       "\n",
       "    .dataframe thead th {\n",
       "        text-align: right;\n",
       "    }\n",
       "</style>\n",
       "<table border=\"1\" class=\"dataframe\">\n",
       "  <thead>\n",
       "    <tr style=\"text-align: right;\">\n",
       "      <th></th>\n",
       "      <th>gender</th>\n",
       "      <th>age</th>\n",
       "      <th>region_code</th>\n",
       "      <th>policy_sales</th>\n",
       "      <th>driving_license</th>\n",
       "      <th>vehicle_age</th>\n",
       "      <th>vehicle_damage</th>\n",
       "      <th>previously_insured</th>\n",
       "      <th>annual_premium</th>\n",
       "      <th>vintage</th>\n",
       "      <th>response</th>\n",
       "    </tr>\n",
       "  </thead>\n",
       "  <tbody>\n",
       "    <tr>\n",
       "      <th>0</th>\n",
       "      <td>Female</td>\n",
       "      <td>56</td>\n",
       "      <td>28.0</td>\n",
       "      <td>26.0</td>\n",
       "      <td>1</td>\n",
       "      <td>1-2 Year</td>\n",
       "      <td>Yes</td>\n",
       "      <td>0</td>\n",
       "      <td>32031.0</td>\n",
       "      <td>72</td>\n",
       "      <td>1</td>\n",
       "    </tr>\n",
       "    <tr>\n",
       "      <th>1</th>\n",
       "      <td>Female</td>\n",
       "      <td>47</td>\n",
       "      <td>35.0</td>\n",
       "      <td>124.0</td>\n",
       "      <td>1</td>\n",
       "      <td>1-2 Year</td>\n",
       "      <td>Yes</td>\n",
       "      <td>0</td>\n",
       "      <td>47576.0</td>\n",
       "      <td>46</td>\n",
       "      <td>1</td>\n",
       "    </tr>\n",
       "    <tr>\n",
       "      <th>2</th>\n",
       "      <td>Male</td>\n",
       "      <td>45</td>\n",
       "      <td>8.0</td>\n",
       "      <td>124.0</td>\n",
       "      <td>1</td>\n",
       "      <td>1-2 Year</td>\n",
       "      <td>Yes</td>\n",
       "      <td>0</td>\n",
       "      <td>42297.0</td>\n",
       "      <td>264</td>\n",
       "      <td>0</td>\n",
       "    </tr>\n",
       "    <tr>\n",
       "      <th>3</th>\n",
       "      <td>Female</td>\n",
       "      <td>54</td>\n",
       "      <td>28.0</td>\n",
       "      <td>122.0</td>\n",
       "      <td>1</td>\n",
       "      <td>1-2 Year</td>\n",
       "      <td>No</td>\n",
       "      <td>0</td>\n",
       "      <td>38560.0</td>\n",
       "      <td>184</td>\n",
       "      <td>0</td>\n",
       "    </tr>\n",
       "    <tr>\n",
       "      <th>4</th>\n",
       "      <td>Female</td>\n",
       "      <td>49</td>\n",
       "      <td>3.0</td>\n",
       "      <td>152.0</td>\n",
       "      <td>1</td>\n",
       "      <td>1-2 Year</td>\n",
       "      <td>No</td>\n",
       "      <td>1</td>\n",
       "      <td>25553.0</td>\n",
       "      <td>130</td>\n",
       "      <td>0</td>\n",
       "    </tr>\n",
       "  </tbody>\n",
       "</table>\n",
       "</div>"
      ],
      "text/plain": [
       "   gender  age  region_code  policy_sales  driving_license vehicle_age vehicle_damage  previously_insured  annual_premium  vintage  response\n",
       "0  Female   56         28.0          26.0                1    1-2 Year            Yes                   0         32031.0       72         1\n",
       "1  Female   47         35.0         124.0                1    1-2 Year            Yes                   0         47576.0       46         1\n",
       "2    Male   45          8.0         124.0                1    1-2 Year            Yes                   0         42297.0      264         0\n",
       "3  Female   54         28.0         122.0                1    1-2 Year             No                   0         38560.0      184         0\n",
       "4  Female   49          3.0         152.0                1    1-2 Year             No                   1         25553.0      130         0"
      ]
     },
     "execution_count": 224,
     "metadata": {},
     "output_type": "execute_result"
    }
   ],
   "source": [
    "df1.head()\n"
   ]
  },
  {
   "cell_type": "markdown",
   "id": "795541f7",
   "metadata": {
    "heading_collapsed": true
   },
   "source": [
    "## 1.2 Data Dimensions"
   ]
  },
  {
   "cell_type": "code",
   "execution_count": 225,
   "id": "e2660ec3",
   "metadata": {
    "ExecuteTime": {
     "end_time": "2022-05-11T14:53:21.053246Z",
     "start_time": "2022-05-11T14:53:21.049660Z"
    },
    "hidden": true
   },
   "outputs": [
    {
     "name": "stdout",
     "output_type": "stream",
     "text": [
      "Number of Cols 11\n",
      "Number of Rows 131948\n"
     ]
    }
   ],
   "source": [
    "print( 'Number of Cols {}'.format( df1.shape[1] ) )\n",
    "print( 'Number of Rows {}'.format( df1.shape[0] ) )"
   ]
  },
  {
   "cell_type": "markdown",
   "id": "d6d24785",
   "metadata": {
    "heading_collapsed": true
   },
   "source": [
    "## 1.3 Check NA"
   ]
  },
  {
   "cell_type": "code",
   "execution_count": 226,
   "id": "48862462",
   "metadata": {
    "ExecuteTime": {
     "end_time": "2022-05-11T14:53:22.506654Z",
     "start_time": "2022-05-11T14:53:22.445932Z"
    },
    "hidden": true
   },
   "outputs": [
    {
     "data": {
      "text/plain": [
       "gender                0\n",
       "age                   0\n",
       "region_code           0\n",
       "policy_sales          0\n",
       "driving_license       0\n",
       "vehicle_age           0\n",
       "vehicle_damage        0\n",
       "previously_insured    0\n",
       "annual_premium        0\n",
       "vintage               0\n",
       "response              0\n",
       "dtype: int64"
      ]
     },
     "execution_count": 226,
     "metadata": {},
     "output_type": "execute_result"
    }
   ],
   "source": [
    "df1.isna().sum()"
   ]
  },
  {
   "cell_type": "markdown",
   "id": "bd04228a",
   "metadata": {
    "heading_collapsed": true
   },
   "source": [
    "## 1.4 Check Data Types"
   ]
  },
  {
   "cell_type": "code",
   "execution_count": 227,
   "id": "4078df93",
   "metadata": {
    "ExecuteTime": {
     "end_time": "2022-05-11T14:53:23.691966Z",
     "start_time": "2022-05-11T14:53:23.686657Z"
    },
    "hidden": true
   },
   "outputs": [
    {
     "data": {
      "text/plain": [
       "gender                 object\n",
       "age                     int64\n",
       "region_code           float64\n",
       "policy_sales          float64\n",
       "driving_license         int64\n",
       "vehicle_age            object\n",
       "vehicle_damage         object\n",
       "previously_insured      int64\n",
       "annual_premium        float64\n",
       "vintage                 int64\n",
       "response                int64\n",
       "dtype: object"
      ]
     },
     "execution_count": 227,
     "metadata": {},
     "output_type": "execute_result"
    }
   ],
   "source": [
    "df1.dtypes"
   ]
  },
  {
   "cell_type": "code",
   "execution_count": 228,
   "id": "78cbd9a0",
   "metadata": {
    "ExecuteTime": {
     "end_time": "2022-05-11T14:53:24.335667Z",
     "start_time": "2022-05-11T14:53:24.324127Z"
    },
    "hidden": true
   },
   "outputs": [
    {
     "data": {
      "text/html": [
       "<div>\n",
       "<style scoped>\n",
       "    .dataframe tbody tr th:only-of-type {\n",
       "        vertical-align: middle;\n",
       "    }\n",
       "\n",
       "    .dataframe tbody tr th {\n",
       "        vertical-align: top;\n",
       "    }\n",
       "\n",
       "    .dataframe thead th {\n",
       "        text-align: right;\n",
       "    }\n",
       "</style>\n",
       "<table border=\"1\" class=\"dataframe\">\n",
       "  <thead>\n",
       "    <tr style=\"text-align: right;\">\n",
       "      <th></th>\n",
       "      <th>gender</th>\n",
       "      <th>age</th>\n",
       "      <th>region_code</th>\n",
       "      <th>policy_sales</th>\n",
       "      <th>driving_license</th>\n",
       "      <th>vehicle_age</th>\n",
       "      <th>vehicle_damage</th>\n",
       "      <th>previously_insured</th>\n",
       "      <th>annual_premium</th>\n",
       "      <th>vintage</th>\n",
       "      <th>response</th>\n",
       "    </tr>\n",
       "  </thead>\n",
       "  <tbody>\n",
       "    <tr>\n",
       "      <th>0</th>\n",
       "      <td>Female</td>\n",
       "      <td>56</td>\n",
       "      <td>28.0</td>\n",
       "      <td>26.0</td>\n",
       "      <td>1</td>\n",
       "      <td>1-2 Year</td>\n",
       "      <td>Yes</td>\n",
       "      <td>0</td>\n",
       "      <td>32031.0</td>\n",
       "      <td>72</td>\n",
       "      <td>1</td>\n",
       "    </tr>\n",
       "    <tr>\n",
       "      <th>1</th>\n",
       "      <td>Female</td>\n",
       "      <td>47</td>\n",
       "      <td>35.0</td>\n",
       "      <td>124.0</td>\n",
       "      <td>1</td>\n",
       "      <td>1-2 Year</td>\n",
       "      <td>Yes</td>\n",
       "      <td>0</td>\n",
       "      <td>47576.0</td>\n",
       "      <td>46</td>\n",
       "      <td>1</td>\n",
       "    </tr>\n",
       "    <tr>\n",
       "      <th>2</th>\n",
       "      <td>Male</td>\n",
       "      <td>45</td>\n",
       "      <td>8.0</td>\n",
       "      <td>124.0</td>\n",
       "      <td>1</td>\n",
       "      <td>1-2 Year</td>\n",
       "      <td>Yes</td>\n",
       "      <td>0</td>\n",
       "      <td>42297.0</td>\n",
       "      <td>264</td>\n",
       "      <td>0</td>\n",
       "    </tr>\n",
       "    <tr>\n",
       "      <th>3</th>\n",
       "      <td>Female</td>\n",
       "      <td>54</td>\n",
       "      <td>28.0</td>\n",
       "      <td>122.0</td>\n",
       "      <td>1</td>\n",
       "      <td>1-2 Year</td>\n",
       "      <td>No</td>\n",
       "      <td>0</td>\n",
       "      <td>38560.0</td>\n",
       "      <td>184</td>\n",
       "      <td>0</td>\n",
       "    </tr>\n",
       "    <tr>\n",
       "      <th>4</th>\n",
       "      <td>Female</td>\n",
       "      <td>49</td>\n",
       "      <td>3.0</td>\n",
       "      <td>152.0</td>\n",
       "      <td>1</td>\n",
       "      <td>1-2 Year</td>\n",
       "      <td>No</td>\n",
       "      <td>1</td>\n",
       "      <td>25553.0</td>\n",
       "      <td>130</td>\n",
       "      <td>0</td>\n",
       "    </tr>\n",
       "  </tbody>\n",
       "</table>\n",
       "</div>"
      ],
      "text/plain": [
       "   gender  age  region_code  policy_sales  driving_license vehicle_age vehicle_damage  previously_insured  annual_premium  vintage  response\n",
       "0  Female   56         28.0          26.0                1    1-2 Year            Yes                   0         32031.0       72         1\n",
       "1  Female   47         35.0         124.0                1    1-2 Year            Yes                   0         47576.0       46         1\n",
       "2    Male   45          8.0         124.0                1    1-2 Year            Yes                   0         42297.0      264         0\n",
       "3  Female   54         28.0         122.0                1    1-2 Year             No                   0         38560.0      184         0\n",
       "4  Female   49          3.0         152.0                1    1-2 Year             No                   1         25553.0      130         0"
      ]
     },
     "execution_count": 228,
     "metadata": {},
     "output_type": "execute_result"
    }
   ],
   "source": [
    "df1.head()"
   ]
  },
  {
   "cell_type": "markdown",
   "id": "51681d85",
   "metadata": {
    "heading_collapsed": true
   },
   "source": [
    "## 1.5 Changing Types"
   ]
  },
  {
   "cell_type": "code",
   "execution_count": 229,
   "id": "bd758ba9",
   "metadata": {
    "ExecuteTime": {
     "end_time": "2022-05-11T14:53:26.182658Z",
     "start_time": "2022-05-11T14:53:25.820069Z"
    },
    "hidden": true
   },
   "outputs": [],
   "source": [
    "df1['vehicle_age'] = df1[ 'vehicle_age'].str.replace('Year', '')\n",
    "df1['vehicle_age'] = df1[ 'vehicle_age'].str.replace('s', '')\n",
    "df1['vehicle_age'] = df1[ 'vehicle_age'].str.replace('> 2', '3')\n",
    "df1['vehicle_age'] = df1[ 'vehicle_age'].str.replace('1-2', '2')\n",
    "df1['vehicle_age'] = df1[ 'vehicle_age'].str.replace('< 1', '1')\n",
    "\n"
   ]
  },
  {
   "cell_type": "code",
   "execution_count": 206,
   "id": "462d85f0",
   "metadata": {
    "ExecuteTime": {
     "end_time": "2022-05-11T14:44:00.865568Z",
     "start_time": "2022-05-11T14:44:00.860594Z"
    },
    "hidden": true
   },
   "outputs": [
    {
     "data": {
      "text/plain": [
       "gender                 object\n",
       "age                     int64\n",
       "region_code           float64\n",
       "policy_sales          float64\n",
       "driving_license         int64\n",
       "vehicle_age            object\n",
       "vehicle_damage         object\n",
       "previously_insured      int64\n",
       "annual_premium        float64\n",
       "vintage                 int64\n",
       "response                int64\n",
       "dtype: object"
      ]
     },
     "execution_count": 206,
     "metadata": {},
     "output_type": "execute_result"
    }
   ],
   "source": [
    "df1.dtypes"
   ]
  },
  {
   "cell_type": "code",
   "execution_count": 207,
   "id": "163873e7",
   "metadata": {
    "ExecuteTime": {
     "end_time": "2022-05-11T14:44:00.896987Z",
     "start_time": "2022-05-11T14:44:00.867830Z"
    },
    "hidden": true
   },
   "outputs": [
    {
     "name": "stderr",
     "output_type": "stream",
     "text": [
      "/var/folders/pc/6sglrsq96ws5kp74fjj4j02h0000gn/T/ipykernel_79655/3208589315.py:1: SettingWithCopyWarning: \n",
      "A value is trying to be set on a copy of a slice from a DataFrame.\n",
      "Try using .loc[row_indexer,col_indexer] = value instead\n",
      "\n",
      "See the caveats in the documentation: https://pandas.pydata.org/pandas-docs/stable/user_guide/indexing.html#returning-a-view-versus-a-copy\n",
      "  df1['vehicle_age'] = df1[ 'vehicle_age' ].astype( int )\n"
     ]
    },
    {
     "data": {
      "text/plain": [
       "gender                 object\n",
       "age                     int64\n",
       "region_code           float64\n",
       "policy_sales          float64\n",
       "driving_license         int64\n",
       "vehicle_age             int64\n",
       "vehicle_damage         object\n",
       "previously_insured      int64\n",
       "annual_premium        float64\n",
       "vintage                 int64\n",
       "response                int64\n",
       "dtype: object"
      ]
     },
     "execution_count": 207,
     "metadata": {},
     "output_type": "execute_result"
    }
   ],
   "source": [
    "\n",
    "df1['vehicle_age'] = df1[ 'vehicle_age' ].astype( int )\n",
    "df1.dtypes\n"
   ]
  },
  {
   "cell_type": "markdown",
   "id": "9e6f10ed",
   "metadata": {},
   "source": [
    "## 1.6 Descriptive Startistical "
   ]
  },
  {
   "cell_type": "code",
   "execution_count": 208,
   "id": "3c9d5620",
   "metadata": {
    "ExecuteTime": {
     "end_time": "2022-05-11T14:44:00.993463Z",
     "start_time": "2022-05-11T14:44:00.989778Z"
    }
   },
   "outputs": [],
   "source": [
    "num_attributes = df1.select_dtypes ( include = ['int64', 'float64'] )\n",
    "cat_attributes = df1.select_dtypes ( exclude = ['int64', 'float64'] )"
   ]
  },
  {
   "cell_type": "markdown",
   "id": "9cb2e8db",
   "metadata": {},
   "source": [
    "### 1.6.1 Numerical Atributes"
   ]
  },
  {
   "cell_type": "code",
   "execution_count": 209,
   "id": "d087e6d2",
   "metadata": {
    "ExecuteTime": {
     "end_time": "2022-05-11T14:44:02.676033Z",
     "start_time": "2022-05-11T14:44:02.400047Z"
    }
   },
   "outputs": [
    {
     "data": {
      "text/html": [
       "<div>\n",
       "<style scoped>\n",
       "    .dataframe tbody tr th:only-of-type {\n",
       "        vertical-align: middle;\n",
       "    }\n",
       "\n",
       "    .dataframe tbody tr th {\n",
       "        vertical-align: top;\n",
       "    }\n",
       "\n",
       "    .dataframe thead th {\n",
       "        text-align: right;\n",
       "    }\n",
       "</style>\n",
       "<table border=\"1\" class=\"dataframe\">\n",
       "  <thead>\n",
       "    <tr style=\"text-align: right;\">\n",
       "      <th></th>\n",
       "      <th>atributtes</th>\n",
       "      <th>min</th>\n",
       "      <th>max</th>\n",
       "      <th>range</th>\n",
       "      <th>mean</th>\n",
       "      <th>median</th>\n",
       "      <th>std</th>\n",
       "      <th>skew</th>\n",
       "      <th>kurtosis</th>\n",
       "    </tr>\n",
       "  </thead>\n",
       "  <tbody>\n",
       "    <tr>\n",
       "      <th>0</th>\n",
       "      <td>age</td>\n",
       "      <td>45.0</td>\n",
       "      <td>85.0</td>\n",
       "      <td>40.0</td>\n",
       "      <td>56.939635</td>\n",
       "      <td>55.0</td>\n",
       "      <td>9.469115</td>\n",
       "      <td>0.640036</td>\n",
       "      <td>-0.649460</td>\n",
       "    </tr>\n",
       "    <tr>\n",
       "      <th>1</th>\n",
       "      <td>region_code</td>\n",
       "      <td>0.0</td>\n",
       "      <td>52.0</td>\n",
       "      <td>52.0</td>\n",
       "      <td>26.985388</td>\n",
       "      <td>28.0</td>\n",
       "      <td>12.310347</td>\n",
       "      <td>-0.209233</td>\n",
       "      <td>-0.407361</td>\n",
       "    </tr>\n",
       "    <tr>\n",
       "      <th>2</th>\n",
       "      <td>policy_sales</td>\n",
       "      <td>1.0</td>\n",
       "      <td>163.0</td>\n",
       "      <td>162.0</td>\n",
       "      <td>74.217237</td>\n",
       "      <td>30.0</td>\n",
       "      <td>53.440006</td>\n",
       "      <td>0.200884</td>\n",
       "      <td>-1.768637</td>\n",
       "    </tr>\n",
       "    <tr>\n",
       "      <th>3</th>\n",
       "      <td>driving_license</td>\n",
       "      <td>0.0</td>\n",
       "      <td>1.0</td>\n",
       "      <td>1.0</td>\n",
       "      <td>0.994096</td>\n",
       "      <td>1.0</td>\n",
       "      <td>0.076609</td>\n",
       "      <td>-12.899263</td>\n",
       "      <td>164.393472</td>\n",
       "    </tr>\n",
       "    <tr>\n",
       "      <th>4</th>\n",
       "      <td>vehicle_age</td>\n",
       "      <td>1.0</td>\n",
       "      <td>3.0</td>\n",
       "      <td>2.0</td>\n",
       "      <td>2.095621</td>\n",
       "      <td>2.0</td>\n",
       "      <td>0.306315</td>\n",
       "      <td>2.360071</td>\n",
       "      <td>5.155412</td>\n",
       "    </tr>\n",
       "    <tr>\n",
       "      <th>5</th>\n",
       "      <td>previously_insured</td>\n",
       "      <td>0.0</td>\n",
       "      <td>1.0</td>\n",
       "      <td>1.0</td>\n",
       "      <td>0.313427</td>\n",
       "      <td>0.0</td>\n",
       "      <td>0.463886</td>\n",
       "      <td>0.804403</td>\n",
       "      <td>-1.352957</td>\n",
       "    </tr>\n",
       "    <tr>\n",
       "      <th>6</th>\n",
       "      <td>annual_premium</td>\n",
       "      <td>2630.0</td>\n",
       "      <td>540165.0</td>\n",
       "      <td>537535.0</td>\n",
       "      <td>32301.524040</td>\n",
       "      <td>34034.5</td>\n",
       "      <td>19160.604775</td>\n",
       "      <td>1.920845</td>\n",
       "      <td>36.133813</td>\n",
       "    </tr>\n",
       "    <tr>\n",
       "      <th>7</th>\n",
       "      <td>vintage</td>\n",
       "      <td>10.0</td>\n",
       "      <td>299.0</td>\n",
       "      <td>289.0</td>\n",
       "      <td>154.276010</td>\n",
       "      <td>154.0</td>\n",
       "      <td>83.644379</td>\n",
       "      <td>0.001730</td>\n",
       "      <td>-1.201913</td>\n",
       "    </tr>\n",
       "    <tr>\n",
       "      <th>8</th>\n",
       "      <td>response</td>\n",
       "      <td>0.0</td>\n",
       "      <td>1.0</td>\n",
       "      <td>1.0</td>\n",
       "      <td>0.159517</td>\n",
       "      <td>0.0</td>\n",
       "      <td>0.366158</td>\n",
       "      <td>1.859780</td>\n",
       "      <td>1.458803</td>\n",
       "    </tr>\n",
       "  </tbody>\n",
       "</table>\n",
       "</div>"
      ],
      "text/plain": [
       "           atributtes     min       max     range          mean   median           std       skew    kurtosis\n",
       "0                 age    45.0      85.0      40.0     56.939635     55.0      9.469115   0.640036   -0.649460\n",
       "1         region_code     0.0      52.0      52.0     26.985388     28.0     12.310347  -0.209233   -0.407361\n",
       "2        policy_sales     1.0     163.0     162.0     74.217237     30.0     53.440006   0.200884   -1.768637\n",
       "3     driving_license     0.0       1.0       1.0      0.994096      1.0      0.076609 -12.899263  164.393472\n",
       "4         vehicle_age     1.0       3.0       2.0      2.095621      2.0      0.306315   2.360071    5.155412\n",
       "5  previously_insured     0.0       1.0       1.0      0.313427      0.0      0.463886   0.804403   -1.352957\n",
       "6      annual_premium  2630.0  540165.0  537535.0  32301.524040  34034.5  19160.604775   1.920845   36.133813\n",
       "7             vintage    10.0     299.0     289.0    154.276010    154.0     83.644379   0.001730   -1.201913\n",
       "8            response     0.0       1.0       1.0      0.159517      0.0      0.366158   1.859780    1.458803"
      ]
     },
     "execution_count": 209,
     "metadata": {},
     "output_type": "execute_result"
    }
   ],
   "source": [
    "\n",
    "# Central tedency - mean, median\n",
    "ct1 = pd.DataFrame( num_attributes.apply( np.mean ) ).T\n",
    "ct2 = pd.DataFrame( num_attributes.apply ( np.median ) ).T\n",
    "\n",
    "# Dispersin - std, min, max, range, skew, kurtosis\n",
    "d1 = pd.DataFrame( num_attributes.apply( np.std ) ).T\n",
    "d2 = pd.DataFrame( num_attributes.apply( min ) ).T\n",
    "d3 = pd.DataFrame( num_attributes.apply( max ) ).T\n",
    "d4 = pd.DataFrame( num_attributes.apply( lambda x: x.max() - x.min () )).T\n",
    "d5 = pd.DataFrame( num_attributes.apply( lambda x: x.skew () )).T\n",
    "d6 = pd.DataFrame( num_attributes.apply( lambda x: x.kurtosis () ) ).T\n",
    "\n",
    "n = pd.concat([ d2, d3, d4, ct1, ct2, d1, d5, d6 ]).T.reset_index()\n",
    "n.columns = [ 'atributtes', 'min', 'max', 'range', 'mean', 'median','std', 'skew', 'kurtosis' ]\n",
    "n"
   ]
  },
  {
   "cell_type": "code",
   "execution_count": 210,
   "id": "8e93e506",
   "metadata": {
    "ExecuteTime": {
     "end_time": "2022-05-11T14:44:04.437546Z",
     "start_time": "2022-05-11T14:44:03.981685Z"
    }
   },
   "outputs": [
    {
     "data": {
      "text/plain": [
       "<seaborn.axisgrid.FacetGrid at 0x7fd76ea32220>"
      ]
     },
     "execution_count": 210,
     "metadata": {},
     "output_type": "execute_result"
    },
    {
     "data": {
      "image/png": "[encoded data removed]",
      "text/plain": [
       "<Figure size 360x360 with 1 Axes>"
      ]
     },
     "metadata": {},
     "output_type": "display_data"
    }
   ],
   "source": [
    "sns.displot( df1['age'])"
   ]
  },
  {
   "cell_type": "code",
   "execution_count": 212,
   "id": "45a2fc0c",
   "metadata": {
    "ExecuteTime": {
     "end_time": "2022-05-11T14:44:14.637404Z",
     "start_time": "2022-05-11T14:44:14.184989Z"
    }
   },
   "outputs": [
    {
     "data": {
      "text/plain": [
       "<seaborn.axisgrid.FacetGrid at 0x7fd772ed1e20>"
      ]
     },
     "execution_count": 212,
     "metadata": {},
     "output_type": "execute_result"
    },
    {
     "data": {
      "image/png": "[encoded data removed]",
      "text/plain": [
       "<Figure size 360x360 with 1 Axes>"
      ]
     },
     "metadata": {},
     "output_type": "display_data"
    }
   ],
   "source": [
    "sns.displot( df1['policy_sales'])"
   ]
  },
  {
   "cell_type": "markdown",
   "id": "2135e345",
   "metadata": {
    "ExecuteTime": {
     "end_time": "2022-05-10T19:19:14.710966Z",
     "start_time": "2022-05-10T19:19:14.697992Z"
    }
   },
   "source": [
    "### 1.6.2 Attributes Category"
   ]
  },
  {
   "cell_type": "code",
   "execution_count": 189,
   "id": "795b7c01",
   "metadata": {
    "ExecuteTime": {
     "end_time": "2022-05-11T14:42:03.635715Z",
     "start_time": "2022-05-11T14:42:03.616594Z"
    }
   },
   "outputs": [
    {
     "data": {
      "text/plain": [
       "gender            2\n",
       "vehicle_damage    2\n",
       "dtype: int64"
      ]
     },
     "execution_count": 189,
     "metadata": {},
     "output_type": "execute_result"
    }
   ],
   "source": [
    "cat_attributes.apply( lambda x: x.unique().shape[0] )"
   ]
  },
  {
   "cell_type": "code",
   "execution_count": 234,
   "id": "242b3ce4",
   "metadata": {
    "ExecuteTime": {
     "end_time": "2022-05-11T20:02:20.785950Z",
     "start_time": "2022-05-11T20:02:16.302785Z"
    }
   },
   "outputs": [
    {
     "data": {
      "text/plain": [
       "<AxesSubplot:xlabel='vehicle_damage', ylabel='annual_premium'>"
      ]
     },
     "execution_count": 234,
     "metadata": {},
     "output_type": "execute_result"
    },
    {
     "data": {
      "image/png": "[encoded data removed]",
      "text/plain": [
       "<Figure size 1800x864 with 2 Axes>"
      ]
     },
     "metadata": {},
     "output_type": "display_data"
    }
   ],
   "source": [
    "aux1 = df1[( df1[ 'gender' ] != '0') & (df1[ 'annual_premium' ] >0 )]\n",
    "\n",
    "plt.subplot (1, 2, 1)\n",
    "sns.boxplot (x = 'gender', y='annual_premium', data = aux1)\n",
    "\n",
    "plt.subplot (1, 2, 2)\n",
    "sns.boxplot (x = 'vehicle_damage', y='annual_premium', data = aux1)"
   ]
  },
  {
   "cell_type": "markdown",
   "id": "2106c79f",
   "metadata": {
    "ExecuteTime": {
     "end_time": "2022-05-11T14:47:37.038029Z",
     "start_time": "2022-05-11T14:47:37.025919Z"
    }
   },
   "source": [
    "# 2.0 Feature Engeneering - Mind Map"
   ]
  },
  {
   "cell_type": "code",
   "execution_count": 231,
   "id": "6647a437",
   "metadata": {
    "ExecuteTime": {
     "end_time": "2022-05-11T18:00:15.135732Z",
     "start_time": "2022-05-11T18:00:14.884109Z"
    }
   },
   "outputs": [
    {
     "data": {
      "text/html": [
       "<div>\n",
       "<style scoped>\n",
       "    .dataframe tbody tr th:only-of-type {\n",
       "        vertical-align: middle;\n",
       "    }\n",
       "\n",
       "    .dataframe tbody tr th {\n",
       "        vertical-align: top;\n",
       "    }\n",
       "\n",
       "    .dataframe thead th {\n",
       "        text-align: right;\n",
       "    }\n",
       "</style>\n",
       "<table border=\"1\" class=\"dataframe\">\n",
       "  <thead>\n",
       "    <tr style=\"text-align: right;\">\n",
       "      <th></th>\n",
       "      <th>gender</th>\n",
       "      <th>age</th>\n",
       "      <th>region_code</th>\n",
       "      <th>policy_sales</th>\n",
       "      <th>driving_license</th>\n",
       "      <th>vehicle_age</th>\n",
       "      <th>vehicle_damage</th>\n",
       "      <th>previously_insured</th>\n",
       "      <th>annual_premium</th>\n",
       "      <th>vintage</th>\n",
       "      <th>response</th>\n",
       "    </tr>\n",
       "  </thead>\n",
       "  <tbody>\n",
       "    <tr>\n",
       "      <th>0</th>\n",
       "      <td>Female</td>\n",
       "      <td>56</td>\n",
       "      <td>28.0</td>\n",
       "      <td>26.0</td>\n",
       "      <td>1</td>\n",
       "      <td>2</td>\n",
       "      <td>Yes</td>\n",
       "      <td>0</td>\n",
       "      <td>32031.0</td>\n",
       "      <td>72</td>\n",
       "      <td>1</td>\n",
       "    </tr>\n",
       "    <tr>\n",
       "      <th>1</th>\n",
       "      <td>Female</td>\n",
       "      <td>47</td>\n",
       "      <td>35.0</td>\n",
       "      <td>124.0</td>\n",
       "      <td>1</td>\n",
       "      <td>2</td>\n",
       "      <td>Yes</td>\n",
       "      <td>0</td>\n",
       "      <td>47576.0</td>\n",
       "      <td>46</td>\n",
       "      <td>1</td>\n",
       "    </tr>\n",
       "    <tr>\n",
       "      <th>2</th>\n",
       "      <td>Male</td>\n",
       "      <td>45</td>\n",
       "      <td>8.0</td>\n",
       "      <td>124.0</td>\n",
       "      <td>1</td>\n",
       "      <td>2</td>\n",
       "      <td>Yes</td>\n",
       "      <td>0</td>\n",
       "      <td>42297.0</td>\n",
       "      <td>264</td>\n",
       "      <td>0</td>\n",
       "    </tr>\n",
       "    <tr>\n",
       "      <th>3</th>\n",
       "      <td>Female</td>\n",
       "      <td>54</td>\n",
       "      <td>28.0</td>\n",
       "      <td>122.0</td>\n",
       "      <td>1</td>\n",
       "      <td>2</td>\n",
       "      <td>No</td>\n",
       "      <td>0</td>\n",
       "      <td>38560.0</td>\n",
       "      <td>184</td>\n",
       "      <td>0</td>\n",
       "    </tr>\n",
       "    <tr>\n",
       "      <th>4</th>\n",
       "      <td>Female</td>\n",
       "      <td>49</td>\n",
       "      <td>3.0</td>\n",
       "      <td>152.0</td>\n",
       "      <td>1</td>\n",
       "      <td>2</td>\n",
       "      <td>No</td>\n",
       "      <td>1</td>\n",
       "      <td>25553.0</td>\n",
       "      <td>130</td>\n",
       "      <td>0</td>\n",
       "    </tr>\n",
       "    <tr>\n",
       "      <th>5</th>\n",
       "      <td>Male</td>\n",
       "      <td>54</td>\n",
       "      <td>28.0</td>\n",
       "      <td>26.0</td>\n",
       "      <td>1</td>\n",
       "      <td>2</td>\n",
       "      <td>Yes</td>\n",
       "      <td>0</td>\n",
       "      <td>25205.0</td>\n",
       "      <td>283</td>\n",
       "      <td>1</td>\n",
       "    </tr>\n",
       "    <tr>\n",
       "      <th>6</th>\n",
       "      <td>Male</td>\n",
       "      <td>54</td>\n",
       "      <td>26.0</td>\n",
       "      <td>22.0</td>\n",
       "      <td>1</td>\n",
       "      <td>2</td>\n",
       "      <td>Yes</td>\n",
       "      <td>0</td>\n",
       "      <td>35493.0</td>\n",
       "      <td>74</td>\n",
       "      <td>0</td>\n",
       "    </tr>\n",
       "    <tr>\n",
       "      <th>7</th>\n",
       "      <td>Male</td>\n",
       "      <td>77</td>\n",
       "      <td>28.0</td>\n",
       "      <td>124.0</td>\n",
       "      <td>1</td>\n",
       "      <td>2</td>\n",
       "      <td>Yes</td>\n",
       "      <td>0</td>\n",
       "      <td>36099.0</td>\n",
       "      <td>139</td>\n",
       "      <td>0</td>\n",
       "    </tr>\n",
       "    <tr>\n",
       "      <th>8</th>\n",
       "      <td>Male</td>\n",
       "      <td>50</td>\n",
       "      <td>30.0</td>\n",
       "      <td>26.0</td>\n",
       "      <td>1</td>\n",
       "      <td>2</td>\n",
       "      <td>Yes</td>\n",
       "      <td>0</td>\n",
       "      <td>34271.0</td>\n",
       "      <td>229</td>\n",
       "      <td>1</td>\n",
       "    </tr>\n",
       "    <tr>\n",
       "      <th>9</th>\n",
       "      <td>Male</td>\n",
       "      <td>49</td>\n",
       "      <td>28.0</td>\n",
       "      <td>124.0</td>\n",
       "      <td>1</td>\n",
       "      <td>2</td>\n",
       "      <td>Yes</td>\n",
       "      <td>0</td>\n",
       "      <td>2630.0</td>\n",
       "      <td>88</td>\n",
       "      <td>0</td>\n",
       "    </tr>\n",
       "    <tr>\n",
       "      <th>10</th>\n",
       "      <td>Male</td>\n",
       "      <td>50</td>\n",
       "      <td>28.0</td>\n",
       "      <td>26.0</td>\n",
       "      <td>1</td>\n",
       "      <td>2</td>\n",
       "      <td>Yes</td>\n",
       "      <td>0</td>\n",
       "      <td>57389.0</td>\n",
       "      <td>155</td>\n",
       "      <td>1</td>\n",
       "    </tr>\n",
       "    <tr>\n",
       "      <th>11</th>\n",
       "      <td>Female</td>\n",
       "      <td>59</td>\n",
       "      <td>39.0</td>\n",
       "      <td>124.0</td>\n",
       "      <td>1</td>\n",
       "      <td>2</td>\n",
       "      <td>Yes</td>\n",
       "      <td>0</td>\n",
       "      <td>32775.0</td>\n",
       "      <td>158</td>\n",
       "      <td>0</td>\n",
       "    </tr>\n",
       "    <tr>\n",
       "      <th>12</th>\n",
       "      <td>Male</td>\n",
       "      <td>53</td>\n",
       "      <td>28.0</td>\n",
       "      <td>122.0</td>\n",
       "      <td>1</td>\n",
       "      <td>2</td>\n",
       "      <td>No</td>\n",
       "      <td>1</td>\n",
       "      <td>40397.0</td>\n",
       "      <td>156</td>\n",
       "      <td>0</td>\n",
       "    </tr>\n",
       "    <tr>\n",
       "      <th>13</th>\n",
       "      <td>Female</td>\n",
       "      <td>48</td>\n",
       "      <td>36.0</td>\n",
       "      <td>124.0</td>\n",
       "      <td>1</td>\n",
       "      <td>2</td>\n",
       "      <td>No</td>\n",
       "      <td>1</td>\n",
       "      <td>2630.0</td>\n",
       "      <td>189</td>\n",
       "      <td>0</td>\n",
       "    </tr>\n",
       "    <tr>\n",
       "      <th>14</th>\n",
       "      <td>Male</td>\n",
       "      <td>47</td>\n",
       "      <td>15.0</td>\n",
       "      <td>14.0</td>\n",
       "      <td>1</td>\n",
       "      <td>2</td>\n",
       "      <td>No</td>\n",
       "      <td>1</td>\n",
       "      <td>29306.0</td>\n",
       "      <td>99</td>\n",
       "      <td>0</td>\n",
       "    </tr>\n",
       "    <tr>\n",
       "      <th>15</th>\n",
       "      <td>Male</td>\n",
       "      <td>52</td>\n",
       "      <td>0.0</td>\n",
       "      <td>26.0</td>\n",
       "      <td>1</td>\n",
       "      <td>2</td>\n",
       "      <td>No</td>\n",
       "      <td>1</td>\n",
       "      <td>2630.0</td>\n",
       "      <td>134</td>\n",
       "      <td>0</td>\n",
       "    </tr>\n",
       "    <tr>\n",
       "      <th>16</th>\n",
       "      <td>Female</td>\n",
       "      <td>61</td>\n",
       "      <td>28.0</td>\n",
       "      <td>157.0</td>\n",
       "      <td>1</td>\n",
       "      <td>3</td>\n",
       "      <td>Yes</td>\n",
       "      <td>0</td>\n",
       "      <td>2630.0</td>\n",
       "      <td>190</td>\n",
       "      <td>1</td>\n",
       "    </tr>\n",
       "    <tr>\n",
       "      <th>17</th>\n",
       "      <td>Female</td>\n",
       "      <td>53</td>\n",
       "      <td>28.0</td>\n",
       "      <td>61.0</td>\n",
       "      <td>1</td>\n",
       "      <td>2</td>\n",
       "      <td>No</td>\n",
       "      <td>1</td>\n",
       "      <td>44313.0</td>\n",
       "      <td>33</td>\n",
       "      <td>0</td>\n",
       "    </tr>\n",
       "    <tr>\n",
       "      <th>18</th>\n",
       "      <td>Male</td>\n",
       "      <td>49</td>\n",
       "      <td>28.0</td>\n",
       "      <td>26.0</td>\n",
       "      <td>1</td>\n",
       "      <td>2</td>\n",
       "      <td>Yes</td>\n",
       "      <td>0</td>\n",
       "      <td>45558.0</td>\n",
       "      <td>49</td>\n",
       "      <td>0</td>\n",
       "    </tr>\n",
       "    <tr>\n",
       "      <th>19</th>\n",
       "      <td>Male</td>\n",
       "      <td>54</td>\n",
       "      <td>28.0</td>\n",
       "      <td>124.0</td>\n",
       "      <td>1</td>\n",
       "      <td>2</td>\n",
       "      <td>Yes</td>\n",
       "      <td>0</td>\n",
       "      <td>34367.0</td>\n",
       "      <td>237</td>\n",
       "      <td>1</td>\n",
       "    </tr>\n",
       "    <tr>\n",
       "      <th>20</th>\n",
       "      <td>Male</td>\n",
       "      <td>45</td>\n",
       "      <td>30.0</td>\n",
       "      <td>26.0</td>\n",
       "      <td>1</td>\n",
       "      <td>2</td>\n",
       "      <td>No</td>\n",
       "      <td>1</td>\n",
       "      <td>2630.0</td>\n",
       "      <td>121</td>\n",
       "      <td>0</td>\n",
       "    </tr>\n",
       "    <tr>\n",
       "      <th>21</th>\n",
       "      <td>Female</td>\n",
       "      <td>60</td>\n",
       "      <td>6.0</td>\n",
       "      <td>157.0</td>\n",
       "      <td>1</td>\n",
       "      <td>2</td>\n",
       "      <td>Yes</td>\n",
       "      <td>0</td>\n",
       "      <td>2630.0</td>\n",
       "      <td>143</td>\n",
       "      <td>0</td>\n",
       "    </tr>\n",
       "    <tr>\n",
       "      <th>22</th>\n",
       "      <td>Male</td>\n",
       "      <td>55</td>\n",
       "      <td>28.0</td>\n",
       "      <td>26.0</td>\n",
       "      <td>1</td>\n",
       "      <td>3</td>\n",
       "      <td>Yes</td>\n",
       "      <td>0</td>\n",
       "      <td>41246.0</td>\n",
       "      <td>285</td>\n",
       "      <td>0</td>\n",
       "    </tr>\n",
       "    <tr>\n",
       "      <th>23</th>\n",
       "      <td>Male</td>\n",
       "      <td>64</td>\n",
       "      <td>8.0</td>\n",
       "      <td>124.0</td>\n",
       "      <td>1</td>\n",
       "      <td>2</td>\n",
       "      <td>Yes</td>\n",
       "      <td>0</td>\n",
       "      <td>2630.0</td>\n",
       "      <td>293</td>\n",
       "      <td>0</td>\n",
       "    </tr>\n",
       "    <tr>\n",
       "      <th>24</th>\n",
       "      <td>Male</td>\n",
       "      <td>71</td>\n",
       "      <td>28.0</td>\n",
       "      <td>124.0</td>\n",
       "      <td>1</td>\n",
       "      <td>2</td>\n",
       "      <td>Yes</td>\n",
       "      <td>0</td>\n",
       "      <td>42881.0</td>\n",
       "      <td>105</td>\n",
       "      <td>0</td>\n",
       "    </tr>\n",
       "    <tr>\n",
       "      <th>25</th>\n",
       "      <td>Male</td>\n",
       "      <td>59</td>\n",
       "      <td>41.0</td>\n",
       "      <td>156.0</td>\n",
       "      <td>1</td>\n",
       "      <td>2</td>\n",
       "      <td>Yes</td>\n",
       "      <td>0</td>\n",
       "      <td>2630.0</td>\n",
       "      <td>88</td>\n",
       "      <td>0</td>\n",
       "    </tr>\n",
       "    <tr>\n",
       "      <th>26</th>\n",
       "      <td>Female</td>\n",
       "      <td>52</td>\n",
       "      <td>45.0</td>\n",
       "      <td>26.0</td>\n",
       "      <td>1</td>\n",
       "      <td>2</td>\n",
       "      <td>Yes</td>\n",
       "      <td>0</td>\n",
       "      <td>23918.0</td>\n",
       "      <td>265</td>\n",
       "      <td>0</td>\n",
       "    </tr>\n",
       "    <tr>\n",
       "      <th>27</th>\n",
       "      <td>Male</td>\n",
       "      <td>69</td>\n",
       "      <td>28.0</td>\n",
       "      <td>122.0</td>\n",
       "      <td>1</td>\n",
       "      <td>2</td>\n",
       "      <td>Yes</td>\n",
       "      <td>0</td>\n",
       "      <td>30727.0</td>\n",
       "      <td>47</td>\n",
       "      <td>0</td>\n",
       "    </tr>\n",
       "    <tr>\n",
       "      <th>28</th>\n",
       "      <td>Female</td>\n",
       "      <td>69</td>\n",
       "      <td>28.0</td>\n",
       "      <td>26.0</td>\n",
       "      <td>1</td>\n",
       "      <td>2</td>\n",
       "      <td>Yes</td>\n",
       "      <td>0</td>\n",
       "      <td>32400.0</td>\n",
       "      <td>189</td>\n",
       "      <td>1</td>\n",
       "    </tr>\n",
       "    <tr>\n",
       "      <th>29</th>\n",
       "      <td>Male</td>\n",
       "      <td>54</td>\n",
       "      <td>15.0</td>\n",
       "      <td>124.0</td>\n",
       "      <td>1</td>\n",
       "      <td>2</td>\n",
       "      <td>Yes</td>\n",
       "      <td>0</td>\n",
       "      <td>35116.0</td>\n",
       "      <td>171</td>\n",
       "      <td>1</td>\n",
       "    </tr>\n",
       "    <tr>\n",
       "      <th>30</th>\n",
       "      <td>Male</td>\n",
       "      <td>50</td>\n",
       "      <td>28.0</td>\n",
       "      <td>122.0</td>\n",
       "      <td>1</td>\n",
       "      <td>2</td>\n",
       "      <td>No</td>\n",
       "      <td>1</td>\n",
       "      <td>42024.0</td>\n",
       "      <td>224</td>\n",
       "      <td>0</td>\n",
       "    </tr>\n",
       "    <tr>\n",
       "      <th>31</th>\n",
       "      <td>Male</td>\n",
       "      <td>58</td>\n",
       "      <td>28.0</td>\n",
       "      <td>23.0</td>\n",
       "      <td>1</td>\n",
       "      <td>2</td>\n",
       "      <td>No</td>\n",
       "      <td>1</td>\n",
       "      <td>44522.0</td>\n",
       "      <td>94</td>\n",
       "      <td>0</td>\n",
       "    </tr>\n",
       "    <tr>\n",
       "      <th>32</th>\n",
       "      <td>Male</td>\n",
       "      <td>59</td>\n",
       "      <td>49.0</td>\n",
       "      <td>124.0</td>\n",
       "      <td>1</td>\n",
       "      <td>2</td>\n",
       "      <td>Yes</td>\n",
       "      <td>0</td>\n",
       "      <td>39971.0</td>\n",
       "      <td>143</td>\n",
       "      <td>0</td>\n",
       "    </tr>\n",
       "    <tr>\n",
       "      <th>33</th>\n",
       "      <td>Male</td>\n",
       "      <td>45</td>\n",
       "      <td>28.0</td>\n",
       "      <td>122.0</td>\n",
       "      <td>1</td>\n",
       "      <td>3</td>\n",
       "      <td>Yes</td>\n",
       "      <td>0</td>\n",
       "      <td>49145.0</td>\n",
       "      <td>222</td>\n",
       "      <td>1</td>\n",
       "    </tr>\n",
       "    <tr>\n",
       "      <th>34</th>\n",
       "      <td>Female</td>\n",
       "      <td>78</td>\n",
       "      <td>46.0</td>\n",
       "      <td>11.0</td>\n",
       "      <td>1</td>\n",
       "      <td>2</td>\n",
       "      <td>No</td>\n",
       "      <td>1</td>\n",
       "      <td>31616.0</td>\n",
       "      <td>185</td>\n",
       "      <td>0</td>\n",
       "    </tr>\n",
       "    <tr>\n",
       "      <th>35</th>\n",
       "      <td>Male</td>\n",
       "      <td>47</td>\n",
       "      <td>28.0</td>\n",
       "      <td>124.0</td>\n",
       "      <td>1</td>\n",
       "      <td>2</td>\n",
       "      <td>No</td>\n",
       "      <td>1</td>\n",
       "      <td>31269.0</td>\n",
       "      <td>213</td>\n",
       "      <td>0</td>\n",
       "    </tr>\n",
       "    <tr>\n",
       "      <th>36</th>\n",
       "      <td>Male</td>\n",
       "      <td>75</td>\n",
       "      <td>8.0</td>\n",
       "      <td>26.0</td>\n",
       "      <td>1</td>\n",
       "      <td>2</td>\n",
       "      <td>No</td>\n",
       "      <td>1</td>\n",
       "      <td>2630.0</td>\n",
       "      <td>11</td>\n",
       "      <td>0</td>\n",
       "    </tr>\n",
       "    <tr>\n",
       "      <th>37</th>\n",
       "      <td>Female</td>\n",
       "      <td>45</td>\n",
       "      <td>35.0</td>\n",
       "      <td>26.0</td>\n",
       "      <td>1</td>\n",
       "      <td>2</td>\n",
       "      <td>No</td>\n",
       "      <td>1</td>\n",
       "      <td>2630.0</td>\n",
       "      <td>200</td>\n",
       "      <td>0</td>\n",
       "    </tr>\n",
       "    <tr>\n",
       "      <th>38</th>\n",
       "      <td>Male</td>\n",
       "      <td>54</td>\n",
       "      <td>28.0</td>\n",
       "      <td>124.0</td>\n",
       "      <td>1</td>\n",
       "      <td>2</td>\n",
       "      <td>No</td>\n",
       "      <td>1</td>\n",
       "      <td>34431.0</td>\n",
       "      <td>288</td>\n",
       "      <td>0</td>\n",
       "    </tr>\n",
       "    <tr>\n",
       "      <th>39</th>\n",
       "      <td>Male</td>\n",
       "      <td>76</td>\n",
       "      <td>15.0</td>\n",
       "      <td>14.0</td>\n",
       "      <td>1</td>\n",
       "      <td>2</td>\n",
       "      <td>No</td>\n",
       "      <td>1</td>\n",
       "      <td>39952.0</td>\n",
       "      <td>126</td>\n",
       "      <td>0</td>\n",
       "    </tr>\n",
       "    <tr>\n",
       "      <th>40</th>\n",
       "      <td>Male</td>\n",
       "      <td>53</td>\n",
       "      <td>39.0</td>\n",
       "      <td>157.0</td>\n",
       "      <td>1</td>\n",
       "      <td>2</td>\n",
       "      <td>Yes</td>\n",
       "      <td>0</td>\n",
       "      <td>2630.0</td>\n",
       "      <td>83</td>\n",
       "      <td>0</td>\n",
       "    </tr>\n",
       "    <tr>\n",
       "      <th>41</th>\n",
       "      <td>Male</td>\n",
       "      <td>46</td>\n",
       "      <td>33.0</td>\n",
       "      <td>124.0</td>\n",
       "      <td>1</td>\n",
       "      <td>2</td>\n",
       "      <td>Yes</td>\n",
       "      <td>0</td>\n",
       "      <td>30866.0</td>\n",
       "      <td>77</td>\n",
       "      <td>0</td>\n",
       "    </tr>\n",
       "    <tr>\n",
       "      <th>42</th>\n",
       "      <td>Male</td>\n",
       "      <td>70</td>\n",
       "      <td>7.0</td>\n",
       "      <td>124.0</td>\n",
       "      <td>1</td>\n",
       "      <td>2</td>\n",
       "      <td>No</td>\n",
       "      <td>1</td>\n",
       "      <td>65479.0</td>\n",
       "      <td>213</td>\n",
       "      <td>0</td>\n",
       "    </tr>\n",
       "    <tr>\n",
       "      <th>43</th>\n",
       "      <td>Male</td>\n",
       "      <td>72</td>\n",
       "      <td>8.0</td>\n",
       "      <td>26.0</td>\n",
       "      <td>1</td>\n",
       "      <td>2</td>\n",
       "      <td>No</td>\n",
       "      <td>1</td>\n",
       "      <td>36462.0</td>\n",
       "      <td>61</td>\n",
       "      <td>0</td>\n",
       "    </tr>\n",
       "    <tr>\n",
       "      <th>44</th>\n",
       "      <td>Female</td>\n",
       "      <td>51</td>\n",
       "      <td>28.0</td>\n",
       "      <td>26.0</td>\n",
       "      <td>1</td>\n",
       "      <td>2</td>\n",
       "      <td>Yes</td>\n",
       "      <td>0</td>\n",
       "      <td>39214.0</td>\n",
       "      <td>15</td>\n",
       "      <td>0</td>\n",
       "    </tr>\n",
       "    <tr>\n",
       "      <th>45</th>\n",
       "      <td>Male</td>\n",
       "      <td>49</td>\n",
       "      <td>28.0</td>\n",
       "      <td>26.0</td>\n",
       "      <td>1</td>\n",
       "      <td>2</td>\n",
       "      <td>Yes</td>\n",
       "      <td>0</td>\n",
       "      <td>31733.0</td>\n",
       "      <td>265</td>\n",
       "      <td>0</td>\n",
       "    </tr>\n",
       "    <tr>\n",
       "      <th>46</th>\n",
       "      <td>Female</td>\n",
       "      <td>76</td>\n",
       "      <td>8.0</td>\n",
       "      <td>163.0</td>\n",
       "      <td>1</td>\n",
       "      <td>2</td>\n",
       "      <td>Yes</td>\n",
       "      <td>0</td>\n",
       "      <td>38546.0</td>\n",
       "      <td>92</td>\n",
       "      <td>0</td>\n",
       "    </tr>\n",
       "    <tr>\n",
       "      <th>47</th>\n",
       "      <td>Female</td>\n",
       "      <td>48</td>\n",
       "      <td>27.0</td>\n",
       "      <td>124.0</td>\n",
       "      <td>1</td>\n",
       "      <td>2</td>\n",
       "      <td>Yes</td>\n",
       "      <td>0</td>\n",
       "      <td>34900.0</td>\n",
       "      <td>153</td>\n",
       "      <td>0</td>\n",
       "    </tr>\n",
       "    <tr>\n",
       "      <th>48</th>\n",
       "      <td>Female</td>\n",
       "      <td>57</td>\n",
       "      <td>41.0</td>\n",
       "      <td>152.0</td>\n",
       "      <td>1</td>\n",
       "      <td>2</td>\n",
       "      <td>No</td>\n",
       "      <td>1</td>\n",
       "      <td>24564.0</td>\n",
       "      <td>220</td>\n",
       "      <td>0</td>\n",
       "    </tr>\n",
       "    <tr>\n",
       "      <th>49</th>\n",
       "      <td>Male</td>\n",
       "      <td>45</td>\n",
       "      <td>28.0</td>\n",
       "      <td>26.0</td>\n",
       "      <td>1</td>\n",
       "      <td>2</td>\n",
       "      <td>Yes</td>\n",
       "      <td>0</td>\n",
       "      <td>2630.0</td>\n",
       "      <td>204</td>\n",
       "      <td>1</td>\n",
       "    </tr>\n",
       "  </tbody>\n",
       "</table>\n",
       "</div>"
      ],
      "text/plain": [
       "    gender  age  region_code  policy_sales  driving_license vehicle_age vehicle_damage  previously_insured  annual_premium  vintage  response\n",
       "0   Female   56         28.0          26.0                1          2             Yes                   0         32031.0       72         1\n",
       "1   Female   47         35.0         124.0                1          2             Yes                   0         47576.0       46         1\n",
       "2     Male   45          8.0         124.0                1          2             Yes                   0         42297.0      264         0\n",
       "3   Female   54         28.0         122.0                1          2              No                   0         38560.0      184         0\n",
       "4   Female   49          3.0         152.0                1          2              No                   1         25553.0      130         0\n",
       "5     Male   54         28.0          26.0                1          2             Yes                   0         25205.0      283         1\n",
       "6     Male   54         26.0          22.0                1          2             Yes                   0         35493.0       74         0\n",
       "7     Male   77         28.0         124.0                1          2             Yes                   0         36099.0      139         0\n",
       "8     Male   50         30.0          26.0                1          2             Yes                   0         34271.0      229         1\n",
       "9     Male   49         28.0         124.0                1          2             Yes                   0          2630.0       88         0\n",
       "10    Male   50         28.0          26.0                1          2             Yes                   0         57389.0      155         1\n",
       "11  Female   59         39.0         124.0                1          2             Yes                   0         32775.0      158         0\n",
       "12    Male   53         28.0         122.0                1          2              No                   1         40397.0      156         0\n",
       "13  Female   48         36.0         124.0                1          2              No                   1          2630.0      189         0\n",
       "14    Male   47         15.0          14.0                1          2              No                   1         29306.0       99         0\n",
       "15    Male   52          0.0          26.0                1          2              No                   1          2630.0      134         0\n",
       "16  Female   61         28.0         157.0                1          3             Yes                   0          2630.0      190         1\n",
       "17  Female   53         28.0          61.0                1          2              No                   1         44313.0       33         0\n",
       "18    Male   49         28.0          26.0                1          2             Yes                   0         45558.0       49         0\n",
       "19    Male   54         28.0         124.0                1          2             Yes                   0         34367.0      237         1\n",
       "20    Male   45         30.0          26.0                1          2              No                   1          2630.0      121         0\n",
       "21  Female   60          6.0         157.0                1          2             Yes                   0          2630.0      143         0\n",
       "22    Male   55         28.0          26.0                1          3             Yes                   0         41246.0      285         0\n",
       "23    Male   64          8.0         124.0                1          2             Yes                   0          2630.0      293         0\n",
       "24    Male   71         28.0         124.0                1          2             Yes                   0         42881.0      105         0\n",
       "25    Male   59         41.0         156.0                1          2             Yes                   0          2630.0       88         0\n",
       "26  Female   52         45.0          26.0                1          2             Yes                   0         23918.0      265         0\n",
       "27    Male   69         28.0         122.0                1          2             Yes                   0         30727.0       47         0\n",
       "28  Female   69         28.0          26.0                1          2             Yes                   0         32400.0      189         1\n",
       "29    Male   54         15.0         124.0                1          2             Yes                   0         35116.0      171         1\n",
       "30    Male   50         28.0         122.0                1          2              No                   1         42024.0      224         0\n",
       "31    Male   58         28.0          23.0                1          2              No                   1         44522.0       94         0\n",
       "32    Male   59         49.0         124.0                1          2             Yes                   0         39971.0      143         0\n",
       "33    Male   45         28.0         122.0                1          3             Yes                   0         49145.0      222         1\n",
       "34  Female   78         46.0          11.0                1          2              No                   1         31616.0      185         0\n",
       "35    Male   47         28.0         124.0                1          2              No                   1         31269.0      213         0\n",
       "36    Male   75          8.0          26.0                1          2              No                   1          2630.0       11         0\n",
       "37  Female   45         35.0          26.0                1          2              No                   1          2630.0      200         0\n",
       "38    Male   54         28.0         124.0                1          2              No                   1         34431.0      288         0\n",
       "39    Male   76         15.0          14.0                1          2              No                   1         39952.0      126         0\n",
       "40    Male   53         39.0         157.0                1          2             Yes                   0          2630.0       83         0\n",
       "41    Male   46         33.0         124.0                1          2             Yes                   0         30866.0       77         0\n",
       "42    Male   70          7.0         124.0                1          2              No                   1         65479.0      213         0\n",
       "43    Male   72          8.0          26.0                1          2              No                   1         36462.0       61         0\n",
       "44  Female   51         28.0          26.0                1          2             Yes                   0         39214.0       15         0\n",
       "45    Male   49         28.0          26.0                1          2             Yes                   0         31733.0      265         0\n",
       "46  Female   76          8.0         163.0                1          2             Yes                   0         38546.0       92         0\n",
       "47  Female   48         27.0         124.0                1          2             Yes                   0         34900.0      153         0\n",
       "48  Female   57         41.0         152.0                1          2              No                   1         24564.0      220         0\n",
       "49    Male   45         28.0          26.0                1          2             Yes                   0          2630.0      204         1"
      ]
     },
     "execution_count": 231,
     "metadata": {},
     "output_type": "execute_result"
    }
   ],
   "source": [
    "df1.head(50)"
   ]
  },
  {
   "cell_type": "markdown",
   "id": "88dd91ad",
   "metadata": {},
   "source": [
    "# Hypothesy List\n",
    "\n",
    "- H1. Customers over 50 years old would be insterested.\n",
    "- H2. Customers with more time of association on Health Insurance would be insterested.\n",
    "- H3. Customers with older car wouldn't be insterested.\n",
    "- H4. Customers demage car would be insterested.\n",
    "- H5. Customers around downtown would be insterested.\n",
    "- H6. Female customers old would be insterested.\n",
    "- H7. Customers that paid for annually premmiun would be insterested.\n",
    "- H8. Customers withougt drive licenses wouldn't be insterested.\n",
    "- H9. Customers with demage car paid the most expensive annualy premium.\n",
    "- H10. 60% of Customers would be insterested."
   ]
  },
  {
   "cell_type": "code",
   "execution_count": null,
   "id": "4f99a8cd",
   "metadata": {},
   "outputs": [],
   "source": []
  }
 ],
 "metadata": {
  "kernelspec": {
   "display_name": "Python 3 (ipykernel)",
   "language": "python",
   "name": "python3"
  },
  "language_info": {
   "codemirror_mode": {
    "name": "ipython",
    "version": 3
   },
   "file_extension": ".py",
   "mimetype": "text/x-python",
   "name": "python",
   "nbconvert_exporter": "python",
   "pygments_lexer": "ipython3",
   "version": "3.9.12"
  }
 },
 "nbformat": 4,
 "nbformat_minor": 5
}
